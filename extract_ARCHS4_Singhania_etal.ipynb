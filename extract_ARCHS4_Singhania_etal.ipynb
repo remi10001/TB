{
 "cells": [
  {
   "cell_type": "markdown",
   "metadata": {},
   "source": [
    "# Extract data for Singhania et al 2018 study (GSE107995) from the ARCHS4 resource"
   ]
  },
  {
   "cell_type": "code",
   "execution_count": null,
   "metadata": {},
   "outputs": [],
   "source": [
    "import pandas as pd\n",
    "import h5py"
   ]
  },
  {
   "cell_type": "code",
   "execution_count": null,
   "metadata": {},
   "outputs": [],
   "source": [
    "ARCHS4_file = 'data/ARCHS4/human_matrix.h5'\n",
    "output_table = 'data/GSE107995/Singhania_et_al_expression_ARCHS4.csv'\n",
    "\n",
    "with h5py.File(ARCHS4_file, 'r', libver='latest') as gene_F:\n",
    "    all_exprs = gene_F['data']['expression']\n",
    "    all_GEO = pd.DataFrame(gene_F['meta']['Sample_geo_accession'][:])\n",
    "    all_GEO[\"GEO_accession\"] = all_GEO[0].apply(lambda x : str(x).strip('b\\'') )\n",
    "    \n",
    "    # These are the GSM numbers for each sample in GSE106995:\n",
    "    GSM_Garra = pd.DataFrame([\"GSM\" + str(i) for i in range(2886035, 2886448 + 1)])\n",
    "    \n",
    "    Garra_samples_in_alldata = all_GEO.loc[all_GEO[\"GEO_accession\"].isin(GSM_Garra[0])].index\n",
    "    \n",
    "    Garra_exprs = all_exprs[Garra_samples_in_alldata]\n",
    "    Garra_exprs_frame = pd.DataFrame(Garra_exprs).transpose()\n",
    "    \n",
    "    \n",
    "    gene_names = gene_F['meta']['genes'][:]\n",
    "    gene_names = [str(x).strip('b\\'') for x in gene_names]\n",
    "    \n",
    "    Garra_exprs_frame.columns = GSM_Garra[0]\n",
    "    \n",
    "    Garra_exprs_frame.index = gene_names\n",
    "    \n",
    "    Garra_exprs_frame.to_csv(output_table)\n",
    "\n",
    "    "
   ]
  }
 ],
 "metadata": {
  "kernelspec": {
   "display_name": "Python 3",
   "language": "python",
   "name": "python3"
  },
  "language_info": {
   "codemirror_mode": {
    "name": "ipython",
    "version": 3
   },
   "file_extension": ".py",
   "mimetype": "text/x-python",
   "name": "python",
   "nbconvert_exporter": "python",
   "pygments_lexer": "ipython3",
   "version": "3.6.3"
  }
 },
 "nbformat": 4,
 "nbformat_minor": 2
}
