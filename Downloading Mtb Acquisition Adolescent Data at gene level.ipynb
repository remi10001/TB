{
 "cells": [
  {
   "cell_type": "code",
   "execution_count": 1,
   "metadata": {},
   "outputs": [],
   "source": [
    "library(MetaIntegrator)"
   ]
  },
  {
   "cell_type": "code",
   "execution_count": 2,
   "metadata": {},
   "outputs": [
    {
     "name": "stderr",
     "output_type": "stream",
     "text": [
      "Setting options('download.file.method.GEOquery'='auto')\n",
      "Setting options('GEOquery.inmemory.gpl'=FALSE)\n",
      "Found 1 file(s)\n",
      "GSE116014_series_matrix.txt.gz\n",
      "Parsed with column specification:\n",
      "cols(\n",
      "  .default = col_double(),\n",
      "  ID_REF = col_character()\n",
      ")\n",
      "See spec(...) for full column specifications.\n",
      "File stored at: \n",
      "/tmp/RtmphEbpuo/GPL10558.soft\n"
     ]
    },
    {
     "name": "stdout",
     "output_type": "stream",
     "text": [
      "          Length Class  Mode\n",
      "GSE116014 1      -none- list\n",
      "[1] \"GSE116014_series_matrix.txt.gz\"\n"
     ]
    }
   ],
   "source": [
    "GSE = \"GSE116014\"\n",
    "gse = getGEOData(GSE)"
   ]
  },
  {
   "cell_type": "code",
   "execution_count": 3,
   "metadata": {},
   "outputs": [
    {
     "name": "stdout",
     "output_type": "stream",
     "text": [
      "[1] \"Obtained GSE data for GSE116014\"\n",
      "[1] \"Subscripted GSE data for GSE116014\"\n"
     ]
    }
   ],
   "source": [
    "print(paste(\"Obtained GSE data for\", GSE))\n",
    "gse.data = gse$originalData[[1]]\n",
    "print(paste(\"Subscripted GSE data for\", GSE))\n",
    "#gse.data = cleanUpPheno(gse.data)\n",
    "gene.level.data = getSampleLevelGeneData(gse.data,unique(gse.data$keys[!is.na(gse.data$keys)]))"
   ]
  },
  {
   "cell_type": "code",
   "execution_count": 5,
   "metadata": {},
   "outputs": [
    {
     "data": {
      "text/html": [
       "<ol class=list-inline>\n",
       "\t<li>17879</li>\n",
       "\t<li>82</li>\n",
       "</ol>\n"
      ],
      "text/latex": [
       "\\begin{enumerate*}\n",
       "\\item 17879\n",
       "\\item 82\n",
       "\\end{enumerate*}\n"
      ],
      "text/markdown": [
       "1. 17879\n",
       "2. 82\n",
       "\n",
       "\n"
      ],
      "text/plain": [
       "[1] 17879    82"
      ]
     },
     "metadata": {},
     "output_type": "display_data"
    }
   ],
   "source": [
    "dim(gene.level.data)"
   ]
  },
  {
   "cell_type": "code",
   "execution_count": 6,
   "metadata": {},
   "outputs": [
    {
     "data": {
      "text/html": [
       "<ol class=list-inline>\n",
       "\t<li>82</li>\n",
       "\t<li>42</li>\n",
       "</ol>\n"
      ],
      "text/latex": [
       "\\begin{enumerate*}\n",
       "\\item 82\n",
       "\\item 42\n",
       "\\end{enumerate*}\n"
      ],
      "text/markdown": [
       "1. 82\n",
       "2. 42\n",
       "\n",
       "\n"
      ],
      "text/plain": [
       "[1] 82 42"
      ]
     },
     "metadata": {},
     "output_type": "display_data"
    }
   ],
   "source": [
    "dim(gse.data$pheno)"
   ]
  },
  {
   "cell_type": "code",
   "execution_count": 7,
   "metadata": {},
   "outputs": [
    {
     "data": {
      "text/plain": [
       "                                                                title   \n",
       " Healthy volunteer TST/QTF conversion after 180 days [8292044004_A]: 1  \n",
       " Healthy volunteer TST/QTF conversion after 180 days [8292044004_D]: 1  \n",
       " Healthy volunteer TST/QTF conversion after 180 days [8292044004_I]: 1  \n",
       " Healthy volunteer TST/QTF conversion after 180 days [8292044004_J]: 1  \n",
       " Healthy volunteer TST/QTF conversion after 180 days [8292044004_K]: 1  \n",
       " Healthy volunteer TST/QTF conversion after 180 days [8381645078_B]: 1  \n",
       " (Other)                                                           :76  \n",
       " geo_accession                        status      submission_date\n",
       " Length:82          Public on Aug 18 2018:82   Jun 19 2018:82    \n",
       " Class :character                                                \n",
       " Mode  :character                                                \n",
       "                                                                 \n",
       "                                                                 \n",
       "                                                                 \n",
       "                                                                 \n",
       "    last_update_date  type    channel_count            source_name_ch1\n",
       " Aug 18 2018:82      RNA:82   1:82          Whole Blood PAXgene:82    \n",
       "                                                                      \n",
       "                                                                      \n",
       "                                                                      \n",
       "                                                                      \n",
       "                                                                      \n",
       "                                                                      \n",
       "       organism_ch1    characteristics_ch1   characteristics_ch1.1\n",
       " Homo sapiens:82    tissue: blood:82       draw day: 180:24       \n",
       "                                           draw day: 360:28       \n",
       "                                           draw day: 540:16       \n",
       "                                           draw day: 720:14       \n",
       "                                                                  \n",
       "                                                                  \n",
       "                                                                  \n",
       "             characteristics_ch1.2\n",
       " patientid: ID#: 04/1154: 4       \n",
       " patientid: ID#: 07/0675: 4       \n",
       " patientid: ID#: 04/0017: 3       \n",
       " patientid: ID#: 04/0041: 3       \n",
       " patientid: ID#: 04/0693: 3       \n",
       " patientid: ID#: 04/0702: 3       \n",
       " (Other)                :62       \n",
       "                           characteristics_ch1.3\n",
       " latent tb status at blood draw: FALSE:24       \n",
       " latent tb status at blood draw: TRUE :58       \n",
       "                                                \n",
       "                                                \n",
       "                                                \n",
       "                                                \n",
       "                                                \n",
       "                    characteristics_ch1.4\n",
       " time of conversion (days): 180:22       \n",
       " time of conversion (days): 360:19       \n",
       " time of conversion (days): 540:41       \n",
       "                                         \n",
       "                                         \n",
       "                                         \n",
       "                                         \n",
       "                                characteristics_ch1.5    molecule_ch1\n",
       " relative time from conversion (days): -180:17        polyA RNA:82   \n",
       " relative time from conversion (days): -360: 7                       \n",
       " relative time from conversion (days): 0   :27                       \n",
       " relative time from conversion (days): 180 :30                       \n",
       " relative time from conversion (days): 360 : 1                       \n",
       "                                                                     \n",
       "                                                                     \n",
       "                                                                                                                                                                                                                                    extract_protocol_ch1\n",
       " Gene expression microarrays were undertaken using whole blood samples collected in PAXgene tubes. The Illumina RNA Amplification Kit (Ambion, Austin, TX, USA) was used to amplify a median of 124 ng (range 63–174 ng) of the extracted RNA.:82       \n",
       "                                                                                                                                                                                                                                                        \n",
       "                                                                                                                                                                                                                                                        \n",
       "                                                                                                                                                                                                                                                        \n",
       "                                                                                                                                                                                                                                                        \n",
       "                                                                                                                                                                                                                                                        \n",
       "                                                                                                                                                                                                                                                        \n",
       "  label_ch1 \n",
       " biotin:82  \n",
       "            \n",
       "            \n",
       "            \n",
       "            \n",
       "            \n",
       "            \n",
       "                                                                                                                                                                                                                           label_protocol_ch1\n",
       " A Biotin-16-UTP label was incorporated into amplified RNA during the in vitro transcription process (Perkin Elmer Life and Analytical Sciences, Woodbridge, Ontario, Canada). Amplification gave yields ranging from 1 μg to 25 μg.:82      \n",
       "                                                                                                                                                                                                                                             \n",
       "                                                                                                                                                                                                                                             \n",
       "                                                                                                                                                                                                                                             \n",
       "                                                                                                                                                                                                                                             \n",
       "                                                                                                                                                                                                                                             \n",
       "                                                                                                                                                                                                                                             \n",
       " taxid_ch1                                   hyb_protocol\n",
       " 9606:82   Standard Illumina hybridization protocol:82   \n",
       "                                                         \n",
       "                                                         \n",
       "                                                         \n",
       "                                                         \n",
       "                                                         \n",
       "                                                         \n",
       "                             scan_protocol       description\n",
       " Standard Illumina scanning protocol:82    8292044004_A: 1  \n",
       "                                           8292044004_B: 1  \n",
       "                                           8292044004_C: 1  \n",
       "                                           8292044004_D: 1  \n",
       "                                           8292044004_E: 1  \n",
       "                                           8292044004_F: 1  \n",
       "                                           (Other)     :76  \n",
       "                                             description.1\n",
       " Healthy volunteer TST/QTF conversion after 180 days:24   \n",
       " Healthy volunteer TST/QTF conversion after 360 days:28   \n",
       " Healthy volunteer TST/QTF conversion after 540 days:16   \n",
       " Healthy volunteer TST/QTF conversion after 720 days:14   \n",
       "                                                          \n",
       "                                                          \n",
       "                                                          \n",
       "                                                                                                                         data_processing\n",
       " Normalization was performed directly from the IDAT files using the R programming language with the lumi and immuminaio packages.:82    \n",
       "                                                                                                                                        \n",
       "                                                                                                                                        \n",
       "                                                                                                                                        \n",
       "                                                                                                                                        \n",
       "                                                                                                                                        \n",
       "                                                                                                                                        \n",
       "   platform_id                contact_name contact_department\n",
       " GPL10558:82   Rafick-Pierre,,Sekaly:82    Pathology:82      \n",
       "                                                             \n",
       "                                                             \n",
       "                                                             \n",
       "                                                             \n",
       "                                                             \n",
       "                                                             \n",
       "                       contact_institute                  contact_address\n",
       " Case Western Reserve University:82      2103 Cornell Rd. 5129 WRB:82    \n",
       "                                                                         \n",
       "                                                                         \n",
       "                                                                         \n",
       "                                                                         \n",
       "                                                                         \n",
       "                                                                         \n",
       "    contact_city contact_state contact_zip/postal_code contact_country\n",
       " Cleveland:82    OH:82         44106:82                USA:82         \n",
       "                                                                      \n",
       "                                                                      \n",
       "                                                                      \n",
       "                                                                      \n",
       "                                                                      \n",
       "                                                                      \n",
       "                                                                                              supplementary_file\n",
       " ftp://ftp.ncbi.nlm.nih.gov/geo/samples/GSM3207nnn/GSM3207067/suppl/GSM3207067_8381645078_B_Grn.idat.gz: 1      \n",
       " ftp://ftp.ncbi.nlm.nih.gov/geo/samples/GSM3207nnn/GSM3207068/suppl/GSM3207068_8381645078_C_Grn.idat.gz: 1      \n",
       " ftp://ftp.ncbi.nlm.nih.gov/geo/samples/GSM3207nnn/GSM3207069/suppl/GSM3207069_8381645078_D_Grn.idat.gz: 1      \n",
       " ftp://ftp.ncbi.nlm.nih.gov/geo/samples/GSM3207nnn/GSM3207070/suppl/GSM3207070_8381645078_E_Grn.idat.gz: 1      \n",
       " ftp://ftp.ncbi.nlm.nih.gov/geo/samples/GSM3207nnn/GSM3207071/suppl/GSM3207071_8381645078_F_Grn.idat.gz: 1      \n",
       " ftp://ftp.ncbi.nlm.nih.gov/geo/samples/GSM3207nnn/GSM3207072/suppl/GSM3207072_8381645078_G_Grn.idat.gz: 1      \n",
       " (Other)                                                                                               :76      \n",
       " data_row_count draw day:ch1       latent tb status at blood draw:ch1\n",
       " 48107:82       Length:82          Length:82                         \n",
       "                Class :character   Class :character                  \n",
       "                Mode  :character   Mode  :character                  \n",
       "                                                                     \n",
       "                                                                     \n",
       "                                                                     \n",
       "                                                                     \n",
       " patientid:ch1      relative time from conversion (days):ch1\n",
       " Length:82          Length:82                               \n",
       " Class :character   Class :character                        \n",
       " Mode  :character   Mode  :character                        \n",
       "                                                            \n",
       "                                                            \n",
       "                                                            \n",
       "                                                            \n",
       " time of conversion (days):ch1  tissue:ch1       \n",
       " Length:82                     Length:82         \n",
       " Class :character              Class :character  \n",
       " Mode  :character              Mode  :character  \n",
       "                                                 \n",
       "                                                 \n",
       "                                                 \n",
       "                                                 "
      ]
     },
     "metadata": {},
     "output_type": "display_data"
    }
   ],
   "source": [
    "summary(gse.data$pheno)"
   ]
  },
  {
   "cell_type": "code",
   "execution_count": 8,
   "metadata": {},
   "outputs": [],
   "source": [
    "write.csv(gene.level.data, \"/master/rault/TB/data/GSE116014/GSE116014_gene_exprs.csv\")\n",
    "write.csv(gse.data$pheno, \"/master/rault/TB/data/GSE116014/GSE116014_pheno.csv\")"
   ]
  },
  {
   "cell_type": "code",
   "execution_count": null,
   "metadata": {},
   "outputs": [],
   "source": []
  }
 ],
 "metadata": {
  "kernelspec": {
   "display_name": "R TB_deep",
   "language": "R",
   "name": "irdeep"
  },
  "language_info": {
   "codemirror_mode": "r",
   "file_extension": ".r",
   "mimetype": "text/x-r-source",
   "name": "R",
   "pygments_lexer": "r",
   "version": "3.5.1"
  }
 },
 "nbformat": 4,
 "nbformat_minor": 2
}
