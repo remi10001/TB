{
 "cells": [
  {
   "cell_type": "markdown",
   "metadata": {},
   "source": [
    "# Deep Learning and Time Since TB Infection in Macaques"
   ]
  },
  {
   "cell_type": "markdown",
   "metadata": {},
   "source": [
    "I am going to apply deep learning algorithms to analyzing the monkey data. I need to:\n",
    "- Transfer over files for middle and late infection, just the microarray data in one file, and the clinical data in another file, only for those monkeys\n",
    "- Set up a training and test set.\n",
    "    - I want 3 latent and 3 active in test set\n",
    "- Before I set up a 10-fold cross-validation scheme, I think it is okay to just see if I can get a model to train on the training set. I definitely want to train a model just on the training set as opposed to the whole dataset together, to start off with at least some good practice"
   ]
  },
  {
   "cell_type": "markdown",
   "metadata": {},
   "source": [
    "## Read in the data"
   ]
  },
  {
   "cell_type": "code",
   "execution_count": 3,
   "metadata": {},
   "outputs": [],
   "source": [
    "import pandas as pd\n",
    "import numpy as np\n",
    "path  = \"/master/rault/TB\"\n",
    "data_path = path + \"/data\""
   ]
  },
  {
   "cell_type": "code",
   "execution_count": 2,
   "metadata": {},
   "outputs": [
    {
     "name": "stdout",
     "output_type": "stream",
     "text": [
      "/master/rault/TB/data\n",
      "Monkey_PhenoData_middle-late.txt\r\n",
      "Monkey_Processed_ExpressionData_middle-late.txt\r\n"
     ]
    }
   ],
   "source": [
    "%cd $data_path\n",
    "%ls \n",
    "\n",
    "pheno = pd.read_table(\"Monkey_PhenoData_middle-late.txt\")\n",
    "expres = pd.read_table(\"Monkey_Processed_ExpressionData_middle-late.txt\")\n",
    "#Monkey_PhenoData_middle-late.txt\n",
    "#Monkey_Processed_ExpressionData_middle-late.txt"
   ]
  },
  {
   "cell_type": "code",
   "execution_count": 45,
   "metadata": {},
   "outputs": [],
   "source": [
    "# Set seed to be consistent\n",
    "import random\n",
    "random.seed(100)\n",
    "\n",
    "# select the latent monkeys\n",
    "latent_monkeys = pheno.loc[pheno[\"clinical.status\"] == \"Latent\"][\"monkeyid\"].tolist()\n",
    "\n",
    "# select the active monkeys\n",
    "active_monkeys = pheno.loc[pheno[\"clinical.status\"] == \"Active\"][\"monkeyid\"].tolist()\n",
    "\n",
    "# set(latent_monkeys) & set(active_monkeys) #-> They are correctly disjoint\n",
    "\n",
    "# Randomly select 3 latent monkeys\n",
    "test_latent_monkeys = random.sample(latent_monkeys, 3)\n",
    "\n",
    "# randomly select 3 active monkeys\n",
    "test_active_monkeys = random.sample(active_monkeys, 3)\n",
    "\n",
    "test_monkeys = test_latent_monkeys + test_active_monkeys\n",
    "\n",
    "# remove these monkeys from the training set  and put in a test set (both the clinical variables and the expression)\n",
    "train_set = pheno.loc[pheno[\"monkeyid\"].isin(set(pheno[\"monkeyid\"]) - set(test_monkeys))]\n",
    "test_set = pheno.loc[pheno[\"monkeyid\"].isin(test_monkeys)]\n",
    "\n",
    "#set(train_set[\"monkeyid\"]) & set(test_set[\"monkeyid\"]) #-> They are correctly disjoint"
   ]
  },
  {
   "cell_type": "code",
   "execution_count": 50,
   "metadata": {},
   "outputs": [
    {
     "data": {
      "text/html": [
       "<div>\n",
       "<style scoped>\n",
       "    .dataframe tbody tr th:only-of-type {\n",
       "        vertical-align: middle;\n",
       "    }\n",
       "\n",
       "    .dataframe tbody tr th {\n",
       "        vertical-align: top;\n",
       "    }\n",
       "\n",
       "    .dataframe thead th {\n",
       "        text-align: right;\n",
       "    }\n",
       "</style>\n",
       "<table border=\"1\" class=\"dataframe\">\n",
       "  <thead>\n",
       "    <tr style=\"text-align: right;\">\n",
       "      <th></th>\n",
       "      <th>title</th>\n",
       "      <th>ChIP</th>\n",
       "      <th>hyb.chamber</th>\n",
       "      <th>dataset</th>\n",
       "      <th>synchroset</th>\n",
       "      <th>monkeyid</th>\n",
       "      <th>time.point</th>\n",
       "      <th>infection.time</th>\n",
       "      <th>clinical.status</th>\n",
       "      <th>description</th>\n",
       "      <th>description.1</th>\n",
       "      <th>time.point.comb</th>\n",
       "      <th>time.period</th>\n",
       "    </tr>\n",
       "  </thead>\n",
       "  <tbody>\n",
       "    <tr>\n",
       "      <th>GSM2227796</th>\n",
       "      <td>M19_56</td>\n",
       "      <td>1</td>\n",
       "      <td>1</td>\n",
       "      <td>Training</td>\n",
       "      <td>No</td>\n",
       "      <td>M19</td>\n",
       "      <td>56</td>\n",
       "      <td>D56</td>\n",
       "      <td>Active</td>\n",
       "      <td>M19_56</td>\n",
       "      <td>6303256020_D.AVG_Signal</td>\n",
       "      <td>56</td>\n",
       "      <td>middle</td>\n",
       "    </tr>\n",
       "  </tbody>\n",
       "</table>\n",
       "</div>"
      ],
      "text/plain": [
       "             title  ChIP  hyb.chamber   dataset synchroset monkeyid  \\\n",
       "GSM2227796  M19_56     1            1  Training         No      M19   \n",
       "\n",
       "            time.point infection.time clinical.status description  \\\n",
       "GSM2227796          56            D56          Active      M19_56   \n",
       "\n",
       "                      description.1  time.point.comb time.period  \n",
       "GSM2227796  6303256020_D.AVG_Signal               56      middle  "
      ]
     },
     "execution_count": 50,
     "metadata": {},
     "output_type": "execute_result"
    }
   ],
   "source": [
    "#training_set.index\n",
    "train_set[train_set.index.isin(['GSM2227796'])]  # This somehow works! so can subset by the rows in this way."
   ]
  },
  {
   "cell_type": "code",
   "execution_count": null,
   "metadata": {},
   "outputs": [],
   "source": [
    "# This is from my state farm distracted driver code\n",
    "import random\n",
    "random.seed(100)   # So subjects selected are consistent\n",
    "b =set(np.random.permutation(a['subject']))\n",
    "subs_val = random.sample(b - set('p072'), 3)# Decided on 3 drivers with further consultation from Jeremy Howard's notebook\n",
    "print(\"Validation subjects: \" + ', '.join(subs_val))\n",
    "\n",
    "a['val.file'] = a[['classname', 'img']].apply(lambda x: '/'.join(x), axis=1)\n",
    "tab_val = a.loc[a['subject'].isin(subs_val)]\n",
    "val_files =tab_val['val.file'].tolist()\n",
    "val_files[0:2]"
   ]
  }
 ],
 "metadata": {
  "kernelspec": {
   "display_name": "Python 3",
   "language": "python",
   "name": "python3"
  },
  "language_info": {
   "codemirror_mode": {
    "name": "ipython",
    "version": 3
   },
   "file_extension": ".py",
   "mimetype": "text/x-python",
   "name": "python",
   "nbconvert_exporter": "python",
   "pygments_lexer": "ipython3",
   "version": "3.6.3"
  }
 },
 "nbformat": 4,
 "nbformat_minor": 2
}
