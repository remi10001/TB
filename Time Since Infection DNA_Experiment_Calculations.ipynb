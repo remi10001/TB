{
 "cells": [
  {
   "cell_type": "markdown",
   "metadata": {},
   "source": [
    "# Calculations for randomizing mouse cages for aerosol\n",
    "- First I will randomize what mice are getting infected\n",
    "- Then I will randomize numbers independently for both strains for the aerosol run (just to ensure no weird correlations in numbering them)\n",
    "- I will then randomize aerosol basket pairings for the aerosol"
   ]
  },
  {
   "cell_type": "code",
   "execution_count": 2,
   "metadata": {},
   "outputs": [
    {
     "data": {
      "text/html": [
       "70"
      ],
      "text/latex": [
       "70"
      ],
      "text/markdown": [
       "70"
      ],
      "text/plain": [
       "[1] 70"
      ]
     },
     "metadata": {},
     "output_type": "display_data"
    }
   ],
   "source": [
    "5*7*2"
   ]
  },
  {
   "cell_type": "code",
   "execution_count": 3,
   "metadata": {},
   "outputs": [
    {
     "data": {
      "text/html": [
       "140"
      ],
      "text/latex": [
       "140"
      ],
      "text/markdown": [
       "140"
      ],
      "text/plain": [
       "[1] 140"
      ]
     },
     "metadata": {},
     "output_type": "display_data"
    }
   ],
   "source": [
    "10*7*2\n"
   ]
  },
  {
   "cell_type": "code",
   "execution_count": 4,
   "metadata": {},
   "outputs": [
    {
     "data": {
      "text/html": [
       "0"
      ],
      "text/latex": [
       "0"
      ],
      "text/markdown": [
       "0"
      ],
      "text/plain": [
       "[1] 0"
      ]
     },
     "metadata": {},
     "output_type": "display_data"
    }
   ],
   "source": [
    "140+70 - 21*5 - 21*5"
   ]
  },
  {
   "cell_type": "code",
   "execution_count": 31,
   "metadata": {},
   "outputs": [],
   "source": [
    "set.seed(100)\n",
    "\n",
    "ncages.to.infect = 140 / 5 / 2\n",
    "B6.cages = 1:21\n",
    "Balb.cages = 1:21\n",
    "\n",
    "set.seed(100)\n",
    "\n",
    "B6.cages.to.infect = sort(sample(B6.cages, ncages.to.infect))\n",
    "B6.cages.uninfected = sort(setdiff(B6.cages, B6.cages.to.infect))\n",
    "\n",
    "Balb.cages.to.infect = sort(sample(Balb.cages, ncages.to.infect))\n",
    "Balb.cages.uninfected = sort(setdiff(Balb.cages, Balb.cages.to.infect))\n",
    "\n",
    "B6.cages.aerosol1 = sort(sample(B6.cages.to.infect, ncages.to.infect/2))\n",
    "B6.cages.aerosol2 = sort(setdiff(B6.cages.to.infect, B6.cages.aerosol1))\n",
    "\n",
    "Balb.cages.aerosol1 = sort(sample(Balb.cages.to.infect, ncages.to.infect/2))\n",
    "Balb.cages.aerosol2 = sort(setdiff(Balb.cages.to.infect, Balb.cages.aerosol1))\n",
    "\n",
    "# Now there are 70 mice per aerosol run. I want to match within strain, so I will have 3 cages for each strain, and then 1 cage out.\n",
    "\n",
    "# Select 3 cages. Permute remaining 4. first 3 go with those first 3 cages, in order, last 1 is in a cage by itself.\n",
    "\n",
    "B6.cages.baskets.aerosol1.pair1 = sample(B6.cages.aerosol1, 3)\n",
    "B6.cages.baskets.aerosol1.pair2 = sample(setdiff(B6.cages.aerosol1, B6.cages.baskets.aerosol1.pair1))\n",
    "\n",
    "B6.cages.baskets.aerosol2.pair1 = sample(B6.cages.aerosol2, 3)\n",
    "B6.cages.baskets.aerosol2.pair2 = sample(setdiff(B6.cages.aerosol2, B6.cages.baskets.aerosol2.pair1))\n",
    "\n",
    "Balb.cages.baskets.aerosol1.pair1 = sample(Balb.cages.aerosol1, 3)\n",
    "Balb.cages.baskets.aerosol1.pair2 = sample(setdiff(Balb.cages.aerosol1, Balb.cages.baskets.aerosol1.pair1))\n",
    "\n",
    "Balb.cages.baskets.aerosol2.pair1 = sample(Balb.cages.aerosol2, 3)\n",
    "Balb.cages.baskets.aerosol2.pair2 = sample(setdiff(Balb.cages.aerosol2, Balb.cages.baskets.aerosol2.pair1))\n",
    "\n",
    "\n",
    "\n",
    "necropsy.order.B6.uninfected = sample(B6.cages.uninfected)\n",
    "\n",
    "necropsy.order.Balb.uninfected = sample(Balb.cages.uninfected)\n",
    "\n",
    "necropsy.order.B6.aerosol1 = sample(B6.cages.aerosol1)\n",
    "necropsy.order.B6.aerosol2 = sample(B6.cages.aerosol2)\n",
    "\n",
    "necropsy.order.Balb.aerosol1 = sample(Balb.cages.aerosol1) \n",
    "necropsy.order.Balb.aerosol2 = sample(Balb.cages.aerosol2)\n",
    "\n"
   ]
  },
  {
   "cell_type": "code",
   "execution_count": 32,
   "metadata": {},
   "outputs": [
    {
     "data": {
      "text/html": [
       "<ol class=list-inline>\n",
       "\t<li>2</li>\n",
       "\t<li>3</li>\n",
       "\t<li>4</li>\n",
       "\t<li>6</li>\n",
       "\t<li>7</li>\n",
       "\t<li>8</li>\n",
       "\t<li>9</li>\n",
       "\t<li>11</li>\n",
       "\t<li>12</li>\n",
       "\t<li>13</li>\n",
       "\t<li>16</li>\n",
       "\t<li>17</li>\n",
       "\t<li>20</li>\n",
       "\t<li>21</li>\n",
       "</ol>\n"
      ],
      "text/latex": [
       "\\begin{enumerate*}\n",
       "\\item 2\n",
       "\\item 3\n",
       "\\item 4\n",
       "\\item 6\n",
       "\\item 7\n",
       "\\item 8\n",
       "\\item 9\n",
       "\\item 11\n",
       "\\item 12\n",
       "\\item 13\n",
       "\\item 16\n",
       "\\item 17\n",
       "\\item 20\n",
       "\\item 21\n",
       "\\end{enumerate*}\n"
      ],
      "text/markdown": [
       "1. 2\n",
       "2. 3\n",
       "3. 4\n",
       "4. 6\n",
       "5. 7\n",
       "6. 8\n",
       "7. 9\n",
       "8. 11\n",
       "9. 12\n",
       "10. 13\n",
       "11. 16\n",
       "12. 17\n",
       "13. 20\n",
       "14. 21\n",
       "\n",
       "\n"
      ],
      "text/plain": [
       " [1]  2  3  4  6  7  8  9 11 12 13 16 17 20 21"
      ]
     },
     "metadata": {},
     "output_type": "display_data"
    },
    {
     "data": {
      "text/html": [
       "<ol class=list-inline>\n",
       "\t<li>6</li>\n",
       "\t<li>8</li>\n",
       "\t<li>11</li>\n",
       "\t<li>12</li>\n",
       "\t<li>16</li>\n",
       "\t<li>17</li>\n",
       "\t<li>20</li>\n",
       "</ol>\n"
      ],
      "text/latex": [
       "\\begin{enumerate*}\n",
       "\\item 6\n",
       "\\item 8\n",
       "\\item 11\n",
       "\\item 12\n",
       "\\item 16\n",
       "\\item 17\n",
       "\\item 20\n",
       "\\end{enumerate*}\n"
      ],
      "text/markdown": [
       "1. 6\n",
       "2. 8\n",
       "3. 11\n",
       "4. 12\n",
       "5. 16\n",
       "6. 17\n",
       "7. 20\n",
       "\n",
       "\n"
      ],
      "text/plain": [
       "[1]  6  8 11 12 16 17 20"
      ]
     },
     "metadata": {},
     "output_type": "display_data"
    },
    {
     "data": {
      "text/html": [
       "<ol class=list-inline>\n",
       "\t<li>17</li>\n",
       "\t<li>16</li>\n",
       "\t<li>12</li>\n",
       "</ol>\n"
      ],
      "text/latex": [
       "\\begin{enumerate*}\n",
       "\\item 17\n",
       "\\item 16\n",
       "\\item 12\n",
       "\\end{enumerate*}\n"
      ],
      "text/markdown": [
       "1. 17\n",
       "2. 16\n",
       "3. 12\n",
       "\n",
       "\n"
      ],
      "text/plain": [
       "[1] 17 16 12"
      ]
     },
     "metadata": {},
     "output_type": "display_data"
    },
    {
     "data": {
      "text/html": [
       "<ol class=list-inline>\n",
       "\t<li>8</li>\n",
       "\t<li>11</li>\n",
       "\t<li>20</li>\n",
       "\t<li>6</li>\n",
       "</ol>\n"
      ],
      "text/latex": [
       "\\begin{enumerate*}\n",
       "\\item 8\n",
       "\\item 11\n",
       "\\item 20\n",
       "\\item 6\n",
       "\\end{enumerate*}\n"
      ],
      "text/markdown": [
       "1. 8\n",
       "2. 11\n",
       "3. 20\n",
       "4. 6\n",
       "\n",
       "\n"
      ],
      "text/plain": [
       "[1]  8 11 20  6"
      ]
     },
     "metadata": {},
     "output_type": "display_data"
    },
    {
     "data": {
      "text/html": [
       "<ol class=list-inline>\n",
       "\t<li>2</li>\n",
       "\t<li>3</li>\n",
       "\t<li>4</li>\n",
       "\t<li>7</li>\n",
       "\t<li>9</li>\n",
       "\t<li>13</li>\n",
       "\t<li>21</li>\n",
       "</ol>\n"
      ],
      "text/latex": [
       "\\begin{enumerate*}\n",
       "\\item 2\n",
       "\\item 3\n",
       "\\item 4\n",
       "\\item 7\n",
       "\\item 9\n",
       "\\item 13\n",
       "\\item 21\n",
       "\\end{enumerate*}\n"
      ],
      "text/markdown": [
       "1. 2\n",
       "2. 3\n",
       "3. 4\n",
       "4. 7\n",
       "5. 9\n",
       "6. 13\n",
       "7. 21\n",
       "\n",
       "\n"
      ],
      "text/plain": [
       "[1]  2  3  4  7  9 13 21"
      ]
     },
     "metadata": {},
     "output_type": "display_data"
    },
    {
     "data": {
      "text/html": [
       "<ol class=list-inline>\n",
       "\t<li>4</li>\n",
       "\t<li>3</li>\n",
       "\t<li>2</li>\n",
       "</ol>\n"
      ],
      "text/latex": [
       "\\begin{enumerate*}\n",
       "\\item 4\n",
       "\\item 3\n",
       "\\item 2\n",
       "\\end{enumerate*}\n"
      ],
      "text/markdown": [
       "1. 4\n",
       "2. 3\n",
       "3. 2\n",
       "\n",
       "\n"
      ],
      "text/plain": [
       "[1] 4 3 2"
      ]
     },
     "metadata": {},
     "output_type": "display_data"
    },
    {
     "data": {
      "text/html": [
       "<ol class=list-inline>\n",
       "\t<li>7</li>\n",
       "\t<li>21</li>\n",
       "\t<li>9</li>\n",
       "\t<li>13</li>\n",
       "</ol>\n"
      ],
      "text/latex": [
       "\\begin{enumerate*}\n",
       "\\item 7\n",
       "\\item 21\n",
       "\\item 9\n",
       "\\item 13\n",
       "\\end{enumerate*}\n"
      ],
      "text/markdown": [
       "1. 7\n",
       "2. 21\n",
       "3. 9\n",
       "4. 13\n",
       "\n",
       "\n"
      ],
      "text/plain": [
       "[1]  7 21  9 13"
      ]
     },
     "metadata": {},
     "output_type": "display_data"
    }
   ],
   "source": [
    "B6.cages.to.infect \n",
    "\n",
    "\n",
    "\n",
    "B6.cages.aerosol1 \n",
    "\n",
    "B6.cages.baskets.aerosol1.pair1 \n",
    "B6.cages.baskets.aerosol1.pair2 \n",
    "\n",
    "B6.cages.aerosol2 \n",
    "\n",
    "\n",
    "B6.cages.baskets.aerosol2.pair1 \n",
    "B6.cages.baskets.aerosol2.pair2 "
   ]
  },
  {
   "cell_type": "code",
   "execution_count": 33,
   "metadata": {},
   "outputs": [
    {
     "data": {
      "text/html": [
       "<ol class=list-inline>\n",
       "\t<li>2</li>\n",
       "\t<li>4</li>\n",
       "\t<li>5</li>\n",
       "\t<li>7</li>\n",
       "\t<li>8</li>\n",
       "\t<li>9</li>\n",
       "\t<li>10</li>\n",
       "\t<li>12</li>\n",
       "\t<li>13</li>\n",
       "\t<li>14</li>\n",
       "\t<li>15</li>\n",
       "\t<li>17</li>\n",
       "\t<li>18</li>\n",
       "\t<li>21</li>\n",
       "</ol>\n"
      ],
      "text/latex": [
       "\\begin{enumerate*}\n",
       "\\item 2\n",
       "\\item 4\n",
       "\\item 5\n",
       "\\item 7\n",
       "\\item 8\n",
       "\\item 9\n",
       "\\item 10\n",
       "\\item 12\n",
       "\\item 13\n",
       "\\item 14\n",
       "\\item 15\n",
       "\\item 17\n",
       "\\item 18\n",
       "\\item 21\n",
       "\\end{enumerate*}\n"
      ],
      "text/markdown": [
       "1. 2\n",
       "2. 4\n",
       "3. 5\n",
       "4. 7\n",
       "5. 8\n",
       "6. 9\n",
       "7. 10\n",
       "8. 12\n",
       "9. 13\n",
       "10. 14\n",
       "11. 15\n",
       "12. 17\n",
       "13. 18\n",
       "14. 21\n",
       "\n",
       "\n"
      ],
      "text/plain": [
       " [1]  2  4  5  7  8  9 10 12 13 14 15 17 18 21"
      ]
     },
     "metadata": {},
     "output_type": "display_data"
    },
    {
     "data": {
      "text/html": [
       "<ol class=list-inline>\n",
       "\t<li>4</li>\n",
       "\t<li>5</li>\n",
       "\t<li>10</li>\n",
       "\t<li>12</li>\n",
       "\t<li>15</li>\n",
       "\t<li>18</li>\n",
       "\t<li>21</li>\n",
       "</ol>\n"
      ],
      "text/latex": [
       "\\begin{enumerate*}\n",
       "\\item 4\n",
       "\\item 5\n",
       "\\item 10\n",
       "\\item 12\n",
       "\\item 15\n",
       "\\item 18\n",
       "\\item 21\n",
       "\\end{enumerate*}\n"
      ],
      "text/markdown": [
       "1. 4\n",
       "2. 5\n",
       "3. 10\n",
       "4. 12\n",
       "5. 15\n",
       "6. 18\n",
       "7. 21\n",
       "\n",
       "\n"
      ],
      "text/plain": [
       "[1]  4  5 10 12 15 18 21"
      ]
     },
     "metadata": {},
     "output_type": "display_data"
    },
    {
     "data": {
      "text/html": [
       "<ol class=list-inline>\n",
       "\t<li>2</li>\n",
       "\t<li>7</li>\n",
       "\t<li>8</li>\n",
       "\t<li>9</li>\n",
       "\t<li>13</li>\n",
       "\t<li>14</li>\n",
       "\t<li>17</li>\n",
       "</ol>\n"
      ],
      "text/latex": [
       "\\begin{enumerate*}\n",
       "\\item 2\n",
       "\\item 7\n",
       "\\item 8\n",
       "\\item 9\n",
       "\\item 13\n",
       "\\item 14\n",
       "\\item 17\n",
       "\\end{enumerate*}\n"
      ],
      "text/markdown": [
       "1. 2\n",
       "2. 7\n",
       "3. 8\n",
       "4. 9\n",
       "5. 13\n",
       "6. 14\n",
       "7. 17\n",
       "\n",
       "\n"
      ],
      "text/plain": [
       "[1]  2  7  8  9 13 14 17"
      ]
     },
     "metadata": {},
     "output_type": "display_data"
    },
    {
     "data": {
      "text/html": [
       "<ol class=list-inline>\n",
       "\t<li>4</li>\n",
       "\t<li>5</li>\n",
       "\t<li>10</li>\n",
       "</ol>\n"
      ],
      "text/latex": [
       "\\begin{enumerate*}\n",
       "\\item 4\n",
       "\\item 5\n",
       "\\item 10\n",
       "\\end{enumerate*}\n"
      ],
      "text/markdown": [
       "1. 4\n",
       "2. 5\n",
       "3. 10\n",
       "\n",
       "\n"
      ],
      "text/plain": [
       "[1]  4  5 10"
      ]
     },
     "metadata": {},
     "output_type": "display_data"
    },
    {
     "data": {
      "text/html": [
       "<ol class=list-inline>\n",
       "\t<li>12</li>\n",
       "\t<li>15</li>\n",
       "\t<li>18</li>\n",
       "\t<li>21</li>\n",
       "</ol>\n"
      ],
      "text/latex": [
       "\\begin{enumerate*}\n",
       "\\item 12\n",
       "\\item 15\n",
       "\\item 18\n",
       "\\item 21\n",
       "\\end{enumerate*}\n"
      ],
      "text/markdown": [
       "1. 12\n",
       "2. 15\n",
       "3. 18\n",
       "4. 21\n",
       "\n",
       "\n"
      ],
      "text/plain": [
       "[1] 12 15 18 21"
      ]
     },
     "metadata": {},
     "output_type": "display_data"
    },
    {
     "data": {
      "text/html": [
       "<ol class=list-inline>\n",
       "\t<li>13</li>\n",
       "\t<li>8</li>\n",
       "\t<li>7</li>\n",
       "</ol>\n"
      ],
      "text/latex": [
       "\\begin{enumerate*}\n",
       "\\item 13\n",
       "\\item 8\n",
       "\\item 7\n",
       "\\end{enumerate*}\n"
      ],
      "text/markdown": [
       "1. 13\n",
       "2. 8\n",
       "3. 7\n",
       "\n",
       "\n"
      ],
      "text/plain": [
       "[1] 13  8  7"
      ]
     },
     "metadata": {},
     "output_type": "display_data"
    },
    {
     "data": {
      "text/html": [
       "<ol class=list-inline>\n",
       "\t<li>9</li>\n",
       "\t<li>17</li>\n",
       "\t<li>2</li>\n",
       "\t<li>14</li>\n",
       "</ol>\n"
      ],
      "text/latex": [
       "\\begin{enumerate*}\n",
       "\\item 9\n",
       "\\item 17\n",
       "\\item 2\n",
       "\\item 14\n",
       "\\end{enumerate*}\n"
      ],
      "text/markdown": [
       "1. 9\n",
       "2. 17\n",
       "3. 2\n",
       "4. 14\n",
       "\n",
       "\n"
      ],
      "text/plain": [
       "[1]  9 17  2 14"
      ]
     },
     "metadata": {},
     "output_type": "display_data"
    }
   ],
   "source": [
    "\n",
    "\n",
    "Balb.cages.to.infect\n",
    "\n",
    "\n",
    "\n",
    "Balb.cages.aerosol1 \n",
    "\n",
    "Balb.cages.aerosol2 \n",
    "\n",
    "Balb.cages.baskets.aerosol1.pair1 \n",
    "Balb.cages.baskets.aerosol1.pair2\n",
    "\n",
    "\n",
    "Balb.cages.baskets.aerosol2.pair1\n",
    "Balb.cages.baskets.aerosol2.pair2 \n"
   ]
  },
  {
   "cell_type": "code",
   "execution_count": 35,
   "metadata": {},
   "outputs": [
    {
     "data": {
      "text/html": [
       "<ol class=list-inline>\n",
       "\t<li>6</li>\n",
       "\t<li>12</li>\n",
       "\t<li>17</li>\n",
       "\t<li>20</li>\n",
       "\t<li>16</li>\n",
       "\t<li>8</li>\n",
       "\t<li>11</li>\n",
       "</ol>\n"
      ],
      "text/latex": [
       "\\begin{enumerate*}\n",
       "\\item 6\n",
       "\\item 12\n",
       "\\item 17\n",
       "\\item 20\n",
       "\\item 16\n",
       "\\item 8\n",
       "\\item 11\n",
       "\\end{enumerate*}\n"
      ],
      "text/markdown": [
       "1. 6\n",
       "2. 12\n",
       "3. 17\n",
       "4. 20\n",
       "5. 16\n",
       "6. 8\n",
       "7. 11\n",
       "\n",
       "\n"
      ],
      "text/plain": [
       "[1]  6 12 17 20 16  8 11"
      ]
     },
     "metadata": {},
     "output_type": "display_data"
    },
    {
     "data": {
      "text/html": [
       "<ol class=list-inline>\n",
       "\t<li>4</li>\n",
       "\t<li>15</li>\n",
       "\t<li>5</li>\n",
       "\t<li>18</li>\n",
       "\t<li>21</li>\n",
       "\t<li>10</li>\n",
       "\t<li>12</li>\n",
       "</ol>\n"
      ],
      "text/latex": [
       "\\begin{enumerate*}\n",
       "\\item 4\n",
       "\\item 15\n",
       "\\item 5\n",
       "\\item 18\n",
       "\\item 21\n",
       "\\item 10\n",
       "\\item 12\n",
       "\\end{enumerate*}\n"
      ],
      "text/markdown": [
       "1. 4\n",
       "2. 15\n",
       "3. 5\n",
       "4. 18\n",
       "5. 21\n",
       "6. 10\n",
       "7. 12\n",
       "\n",
       "\n"
      ],
      "text/plain": [
       "[1]  4 15  5 18 21 10 12"
      ]
     },
     "metadata": {},
     "output_type": "display_data"
    },
    {
     "data": {
      "text/html": [
       "<ol class=list-inline>\n",
       "\t<li>10</li>\n",
       "\t<li>5</li>\n",
       "\t<li>19</li>\n",
       "\t<li>14</li>\n",
       "\t<li>18</li>\n",
       "\t<li>15</li>\n",
       "\t<li>1</li>\n",
       "</ol>\n"
      ],
      "text/latex": [
       "\\begin{enumerate*}\n",
       "\\item 10\n",
       "\\item 5\n",
       "\\item 19\n",
       "\\item 14\n",
       "\\item 18\n",
       "\\item 15\n",
       "\\item 1\n",
       "\\end{enumerate*}\n"
      ],
      "text/markdown": [
       "1. 10\n",
       "2. 5\n",
       "3. 19\n",
       "4. 14\n",
       "5. 18\n",
       "6. 15\n",
       "7. 1\n",
       "\n",
       "\n"
      ],
      "text/plain": [
       "[1] 10  5 19 14 18 15  1"
      ]
     },
     "metadata": {},
     "output_type": "display_data"
    },
    {
     "data": {
      "text/html": [
       "<ol class=list-inline>\n",
       "\t<li>19</li>\n",
       "\t<li>20</li>\n",
       "\t<li>1</li>\n",
       "\t<li>3</li>\n",
       "\t<li>11</li>\n",
       "\t<li>6</li>\n",
       "\t<li>16</li>\n",
       "</ol>\n"
      ],
      "text/latex": [
       "\\begin{enumerate*}\n",
       "\\item 19\n",
       "\\item 20\n",
       "\\item 1\n",
       "\\item 3\n",
       "\\item 11\n",
       "\\item 6\n",
       "\\item 16\n",
       "\\end{enumerate*}\n"
      ],
      "text/markdown": [
       "1. 19\n",
       "2. 20\n",
       "3. 1\n",
       "4. 3\n",
       "5. 11\n",
       "6. 6\n",
       "7. 16\n",
       "\n",
       "\n"
      ],
      "text/plain": [
       "[1] 19 20  1  3 11  6 16"
      ]
     },
     "metadata": {},
     "output_type": "display_data"
    },
    {
     "data": {
      "text/html": [
       "<ol class=list-inline>\n",
       "\t<li>3</li>\n",
       "\t<li>4</li>\n",
       "\t<li>13</li>\n",
       "\t<li>7</li>\n",
       "\t<li>21</li>\n",
       "\t<li>9</li>\n",
       "\t<li>2</li>\n",
       "</ol>\n"
      ],
      "text/latex": [
       "\\begin{enumerate*}\n",
       "\\item 3\n",
       "\\item 4\n",
       "\\item 13\n",
       "\\item 7\n",
       "\\item 21\n",
       "\\item 9\n",
       "\\item 2\n",
       "\\end{enumerate*}\n"
      ],
      "text/markdown": [
       "1. 3\n",
       "2. 4\n",
       "3. 13\n",
       "4. 7\n",
       "5. 21\n",
       "6. 9\n",
       "7. 2\n",
       "\n",
       "\n"
      ],
      "text/plain": [
       "[1]  3  4 13  7 21  9  2"
      ]
     },
     "metadata": {},
     "output_type": "display_data"
    },
    {
     "data": {
      "text/html": [
       "<ol class=list-inline>\n",
       "\t<li>13</li>\n",
       "\t<li>14</li>\n",
       "\t<li>9</li>\n",
       "\t<li>2</li>\n",
       "\t<li>7</li>\n",
       "\t<li>8</li>\n",
       "\t<li>17</li>\n",
       "</ol>\n"
      ],
      "text/latex": [
       "\\begin{enumerate*}\n",
       "\\item 13\n",
       "\\item 14\n",
       "\\item 9\n",
       "\\item 2\n",
       "\\item 7\n",
       "\\item 8\n",
       "\\item 17\n",
       "\\end{enumerate*}\n"
      ],
      "text/markdown": [
       "1. 13\n",
       "2. 14\n",
       "3. 9\n",
       "4. 2\n",
       "5. 7\n",
       "6. 8\n",
       "7. 17\n",
       "\n",
       "\n"
      ],
      "text/plain": [
       "[1] 13 14  9  2  7  8 17"
      ]
     },
     "metadata": {},
     "output_type": "display_data"
    }
   ],
   "source": [
    "necropsy.order.B6.aerosol1\n",
    "necropsy.order.Balb.aerosol1 \n",
    "\n",
    "necropsy.order.B6.uninfected \n",
    "necropsy.order.Balb.uninfected\n",
    "\n",
    "\n",
    "necropsy.order.B6.aerosol2\n",
    "necropsy.order.Balb.aerosol2 "
   ]
  },
  {
   "cell_type": "code",
   "execution_count": 8,
   "metadata": {},
   "outputs": [
    {
     "data": {
      "text/html": [
       "7"
      ],
      "text/latex": [
       "7"
      ],
      "text/markdown": [
       "7"
      ],
      "text/plain": [
       "[1] 7"
      ]
     },
     "metadata": {},
     "output_type": "display_data"
    }
   ],
   "source": [
    "length(B6.cages.aerosol1)"
   ]
  },
  {
   "cell_type": "code",
   "execution_count": 9,
   "metadata": {},
   "outputs": [
    {
     "data": {
      "text/html": [
       "7"
      ],
      "text/latex": [
       "7"
      ],
      "text/markdown": [
       "7"
      ],
      "text/plain": [
       "[1] 7"
      ]
     },
     "metadata": {},
     "output_type": "display_data"
    }
   ],
   "source": [
    "length(B6.cages.aerosol2)"
   ]
  },
  {
   "cell_type": "code",
   "execution_count": 16,
   "metadata": {},
   "outputs": [
    {
     "data": {
      "text/html": [
       "70"
      ],
      "text/latex": [
       "70"
      ],
      "text/markdown": [
       "70"
      ],
      "text/plain": [
       "[1] 70"
      ]
     },
     "metadata": {},
     "output_type": "display_data"
    }
   ],
   "source": [
    "14*5"
   ]
  },
  {
   "cell_type": "code",
   "execution_count": null,
   "metadata": {},
   "outputs": [],
   "source": []
  }
 ],
 "metadata": {
  "kernelspec": {
   "display_name": "R",
   "language": "R",
   "name": "ir"
  },
  "language_info": {
   "codemirror_mode": "r",
   "file_extension": ".r",
   "mimetype": "text/x-r-source",
   "name": "R",
   "pygments_lexer": "r",
   "version": "3.4.3"
  }
 },
 "nbformat": 4,
 "nbformat_minor": 2
}
