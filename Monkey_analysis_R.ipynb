{
 "cells": [
  {
   "cell_type": "markdown",
   "metadata": {},
   "source": [
    "Goal: do cross-validation with standard machine learning techniques (i.e. those that Alex tried)"
   ]
  },
  {
   "cell_type": "code",
   "execution_count": 1,
   "metadata": {},
   "outputs": [
    {
     "name": "stderr",
     "output_type": "stream",
     "text": [
      "\n",
      "Attaching package: ‘dplyr’\n",
      "\n",
      "The following objects are masked from ‘package:stats’:\n",
      "\n",
      "    filter, lag\n",
      "\n",
      "The following objects are masked from ‘package:base’:\n",
      "\n",
      "    intersect, setdiff, setequal, union\n",
      "\n",
      "Loading required package: lattice\n",
      "Loading required package: ggplot2\n"
     ]
    }
   ],
   "source": [
    "library(dplyr)\n",
    "library(caret)\n",
    "library(e1071)"
   ]
  },
  {
   "cell_type": "code",
   "execution_count": 111,
   "metadata": {},
   "outputs": [
    {
     "name": "stderr",
     "output_type": "stream",
     "text": [
      "\n",
      "Attaching package: ‘ranger’\n",
      "\n",
      "The following object is masked from ‘package:randomForest’:\n",
      "\n",
      "    importance\n",
      "\n"
     ]
    }
   ],
   "source": []
  },
  {
   "cell_type": "code",
   "execution_count": 23,
   "metadata": {},
   "outputs": [],
   "source": [
    "source(\"utils.R\")\n",
    "path  = \"/master/rault/TB\"\n",
    "data_path = paste(path, \"/data\", sep=\"\")\n",
    "conda.r = \"/master/rault/miniconda3/lib/R/library\""
   ]
  },
  {
   "cell_type": "code",
   "execution_count": 18,
   "metadata": {},
   "outputs": [
    {
     "name": "stderr",
     "output_type": "stream",
     "text": [
      "Updating HTML index of packages in '.Library'\n",
      "Making 'packages.html' ... done\n"
     ]
    }
   ],
   "source": [
    "#library(devtools)\n",
    "#with_libpaths(new = conda.r, install_github('topepo/caret/pkg/caret'))\n",
    "#install.packages(\"caret\", conda.r)\n",
    "\n",
    "#install.packages(\"deepnet\", conda.r)\n",
    "#devtools::install_github('topepo/caret/pkg/caret')\n",
    "#install.packages(\"ranger\", conda.r)\n",
    "#install.packages(\"glmnet\", conda.r)\n",
    "#install.packages(\"gbm\", conda.r)\n",
    "#install.packages(\"e1071\", conda.r)\n",
    "#install.packages(\"mlbench\", conda.r)"
   ]
  },
  {
   "cell_type": "code",
   "execution_count": 3,
   "metadata": {},
   "outputs": [],
   "source": [
    "pheno = read.table(file=paste(data_path, \"Monkey_PhenoData_middle-late.txt\", sep=\"/\"), header=T, sep=\"\\t\")\n",
    "expres =  read.table(file=paste(data_path, \"Monkey_Processed_ExpressionData_middle-late.txt\", sep=\"/\"), header=T, sep=\"\\t\")"
   ]
  },
  {
   "cell_type": "markdown",
   "metadata": {},
   "source": [
    "Split into training and test sets, using the same random split used in python in initial neural networks training. It is 5 active TB monkeys and 6 latent TB monkeys, a roughly 70-30% train-test split."
   ]
  },
  {
   "cell_type": "code",
   "execution_count": 5,
   "metadata": {},
   "outputs": [],
   "source": [
    "test.latent.monkeys = c('M13', 'M27', 'M34', 'M15', 'M35', 'M36')\n",
    "test.active.monkeys = c('M1', 'M16', 'M32', 'M18', 'M23')"
   ]
  },
  {
   "cell_type": "code",
   "execution_count": 6,
   "metadata": {},
   "outputs": [
    {
     "data": {
      "text/html": [
       "<ol class=list-inline>\n",
       "\t<li>84</li>\n",
       "\t<li>13</li>\n",
       "</ol>\n"
      ],
      "text/latex": [
       "\\begin{enumerate*}\n",
       "\\item 84\n",
       "\\item 13\n",
       "\\end{enumerate*}\n"
      ],
      "text/markdown": [
       "1. 84\n",
       "2. 13\n",
       "\n",
       "\n"
      ],
      "text/plain": [
       "[1] 84 13"
      ]
     },
     "metadata": {},
     "output_type": "display_data"
    }
   ],
   "source": [
    "# THis is correct, 48 samples as in the python code\n",
    "dim(filter(pheno, monkeyid %in% union(test.latent.monkeys, test.active.monkeys)))"
   ]
  },
  {
   "cell_type": "code",
   "execution_count": 7,
   "metadata": {},
   "outputs": [],
   "source": [
    "#head(rownames(pheno))\n",
    "#identical(rownames(pheno), rownames(expres)) # TRUE\n",
    "#train.pheno = rownames(pheno[pheno$monkeyid %in% union(test.latent.monkeys, test.active.monkeys),])\n",
    "\n",
    "test.rows = rownames(pheno[pheno$monkeyid %in% union(test.latent.monkeys, test.active.monkeys),])\n",
    "train.rows = setdiff(rownames(pheno), test.rows)\n",
    "\n",
    "pheno.train = droplevels(pheno[train.rows,])\n",
    "pheno.test = droplevels(pheno[test.rows,])\n",
    "expres.train = droplevels(expres[train.rows,])\n",
    "expres.test = droplevels(expres[test.rows,])"
   ]
  },
  {
   "cell_type": "markdown",
   "metadata": {},
   "source": [
    "Going to need to figure out grouped cross-validation according to Monkey, as we did before.\n",
    "\n",
    "Great code for comparing models:\n",
    "https://machinelearningmastery.com/compare-models-and-select-the-best-using-the-caret-r-package/\n",
    "\n",
    "Improving machine learning model performance\n",
    "https://machinelearningmastery.com/machine-learning-performance-improvement-cheat-sheet/\n",
    "\n",
    "In depth tuning of random forests in R\n",
    "https://machinelearningmastery.com/tune-machine-learning-algorithms-in-r/\n",
    "\n",
    "I think I'll do 10-fold cross-validation with 3 repeats as he does\n",
    "control <- trainControl(method=\"repeatedcv\", number=10, repeats=3)\n",
    "My metric will be accuracy I think. That's what I want.\n",
    "\n",
    "The caret package documentation is pretty good:\n",
    "https://topepo.github.io/caret/model-training-and-tuning.html#control"
   ]
  },
  {
   "cell_type": "code",
   "execution_count": 8,
   "metadata": {},
   "outputs": [],
   "source": [
    "set.seed(100)\n",
    "folds = groupKFold(pheno.train$monkeyid, k=10)"
   ]
  },
  {
   "cell_type": "markdown",
   "metadata": {},
   "source": [
    "Sometimes this function gives 1 fewer folds, as it did in my test of the different techniques."
   ]
  },
  {
   "cell_type": "code",
   "execution_count": 49,
   "metadata": {},
   "outputs": [
    {
     "name": "stdout",
     "output_type": "stream",
     "text": [
      "[1] 10\n"
     ]
    }
   ],
   "source": [
    "folds.2 =  groupKFold(pheno.train$monkeyid, k=10)\n",
    "print(length(folds.2))"
   ]
  },
  {
   "cell_type": "code",
   "execution_count": 9,
   "metadata": {},
   "outputs": [
    {
     "name": "stdout",
     "output_type": "stream",
     "text": [
      "[1] 202\n",
      "[1] 194\n",
      "[1] 186\n",
      "[1] 174\n",
      "[1] 187\n",
      "[1] 179\n",
      "[1] 186\n",
      "[1] 178\n",
      "[1] 194\n"
     ]
    },
    {
     "data": {
      "text/plain": [
       "$Fold1\n",
       "\n",
       "M10 M11 M12 M14 M17 M19  M2 M20 M21 M22 M24 M25 M26 M28 M29  M3 M30 M31 M33 M37 \n",
       "  5   8   8   0   8   7   8   8   8   8   8   8   8   8   8   8   8   7   8   8 \n",
       "M38  M4  M5  M6  M7  M8  M9 \n",
       "  7   8   8   8   8   8   8 \n",
       "\n",
       "$Fold2\n",
       "\n",
       "M10 M11 M12 M14 M17 M19  M2 M20 M21 M22 M24 M25 M26 M28 M29  M3 M30 M31 M33 M37 \n",
       "  5   8   8   8   8   7   8   8   8   0   8   8   8   8   8   8   8   7   8   8 \n",
       "M38  M4  M5  M6  M7  M8  M9 \n",
       "  7   8   8   8   8   0   8 \n",
       "\n",
       "$Fold3\n",
       "\n",
       "M10 M11 M12 M14 M17 M19  M2 M20 M21 M22 M24 M25 M26 M28 M29  M3 M30 M31 M33 M37 \n",
       "  5   0   8   8   8   7   8   8   8   8   8   8   0   8   8   8   0   7   8   8 \n",
       "M38  M4  M5  M6  M7  M8  M9 \n",
       "  7   8   8   8   8   8   8 \n",
       "\n",
       "$Fold4\n",
       "\n",
       "M10 M11 M12 M14 M17 M19  M2 M20 M21 M22 M24 M25 M26 M28 M29  M3 M30 M31 M33 M37 \n",
       "  0   8   8   8   8   7   8   0   8   8   8   8   8   0   8   8   8   0   0   8 \n",
       "M38  M4  M5  M6  M7  M8  M9 \n",
       "  7   8   8   8   8   8   8 \n",
       "\n",
       "$Fold5\n",
       "\n",
       "M10 M11 M12 M14 M17 M19  M2 M20 M21 M22 M24 M25 M26 M28 M29  M3 M30 M31 M33 M37 \n",
       "  5   8   8   8   0   0   8   8   8   8   8   8   8   8   8   8   8   7   8   8 \n",
       "M38  M4  M5  M6  M7  M8  M9 \n",
       "  7   8   8   8   0   8   8 \n",
       "\n",
       "$Fold6\n",
       "\n",
       "M10 M11 M12 M14 M17 M19  M2 M20 M21 M22 M24 M25 M26 M28 M29  M3 M30 M31 M33 M37 \n",
       "  5   8   0   8   8   7   8   8   0   8   8   8   8   8   8   8   8   7   8   8 \n",
       "M38  M4  M5  M6  M7  M8  M9 \n",
       "  0   8   0   8   8   8   8 \n",
       "\n",
       "$Fold7\n",
       "\n",
       "M10 M11 M12 M14 M17 M19  M2 M20 M21 M22 M24 M25 M26 M28 M29  M3 M30 M31 M33 M37 \n",
       "  5   8   8   8   8   7   8   8   8   8   0   8   8   8   8   0   8   7   8   0 \n",
       "M38  M4  M5  M6  M7  M8  M9 \n",
       "  7   8   8   8   8   8   8 \n",
       "\n",
       "$Fold8\n",
       "\n",
       "M10 M11 M12 M14 M17 M19  M2 M20 M21 M22 M24 M25 M26 M28 M29  M3 M30 M31 M33 M37 \n",
       "  5   8   8   8   8   7   8   8   8   8   8   8   8   8   0   8   8   7   8   8 \n",
       "M38  M4  M5  M6  M7  M8  M9 \n",
       "  7   0   8   0   8   8   0 \n",
       "\n",
       "$Fold9\n",
       "\n",
       "M10 M11 M12 M14 M17 M19  M2 M20 M21 M22 M24 M25 M26 M28 M29  M3 M30 M31 M33 M37 \n",
       "  5   8   8   8   8   7   0   8   8   8   8   0   8   8   8   8   8   7   8   8 \n",
       "M38  M4  M5  M6  M7  M8  M9 \n",
       "  7   8   8   8   8   8   8 \n"
      ]
     },
     "metadata": {},
     "output_type": "display_data"
    }
   ],
   "source": [
    "for (fold in lapply(folds, function(x) {pheno.train$monkeyid[x]}))\n",
    "    print(length((as.character(fold))))\n",
    "\n",
    "#folds = groupKFold(pheno.train$monkeyid, k=10)\n",
    "lapply(folds, function(x, y) table(y[x]), y = pheno.train$monkeyid)\n",
    "       \n",
    "       # this should roughly work\n",
    "       # Else the website below may help me:\n",
    "      # https://stackoverflow.com/questions/48142617/caret-combine-createresample-and-groupkfold?rq=1"
   ]
  },
  {
   "cell_type": "code",
   "execution_count": 10,
   "metadata": {},
   "outputs": [
    {
     "name": "stdout",
     "output_type": "stream",
     "text": [
      "[1] 210  13\n",
      "[1] 84 13\n",
      "[1] 294  13\n"
     ]
    }
   ],
   "source": [
    "print(dim(pheno.train))\n",
    "print(dim(pheno.test))\n",
    "print(dim(pheno))"
   ]
  },
  {
   "cell_type": "code",
   "execution_count": 11,
   "metadata": {},
   "outputs": [],
   "source": [
    "expres.train$time.period = pheno.train$time.period"
   ]
  },
  {
   "cell_type": "code",
   "execution_count": 83,
   "metadata": {},
   "outputs": [
    {
     "ename": "ERROR",
     "evalue": "Error in library(e1071): there is no package called ‘e1071’\n",
     "output_type": "error",
     "traceback": [
      "Error in library(e1071): there is no package called ‘e1071’\nTraceback:\n",
      "1. library(e1071)",
      "2. stop(txt, domain = NA)"
     ]
    }
   ],
   "source": [
    "install.pac # I need to make sure I use the proper destination folder, using that R and Jupyter post\n",
    "library(e1071)"
   ]
  },
  {
   "cell_type": "code",
   "execution_count": null,
   "metadata": {},
   "outputs": [
    {
     "name": "stderr",
     "output_type": "stream",
     "text": [
      "randomForest 4.6-12\n",
      "Type rfNews() to see new features/changes/bug fixes.\n",
      "\n",
      "Attaching package: ‘randomForest’\n",
      "\n",
      "The following object is masked from ‘package:dplyr’:\n",
      "\n",
      "    combine\n",
      "\n",
      "The following object is masked from ‘package:ggplot2’:\n",
      "\n",
      "    margin\n",
      "\n"
     ]
    }
   ],
   "source": [
    "# This would be one example\n",
    "#this k-folds thing is being VERY complicated\n",
    "# I don't know how this code will go\n",
    "# It was a lot simpler in python with the grouping variables for groupkfold\n",
    "\n",
    "seed=100\n",
    "control <- trainControl(method=\"cv\", index=folds, search=\"random\")\n",
    "set.seed(seed)\n",
    "mtry <- sqrt(ncol(expres.train))\n",
    "rf_random <- train(time.period~., data=expres.train, method=\"rf\", tuneLength=15, trControl=control)\n",
    "print(rf_random)\n",
    "plot(rf_random)"
   ]
  },
  {
   "cell_type": "code",
   "execution_count": 104,
   "metadata": {},
   "outputs": [
    {
     "data": {
      "text/plain": [
       "Random Forest \n",
       "\n",
       " 210 samples\n",
       "9050 predictors\n",
       "   2 classes: 'late', 'middle' \n",
       "\n",
       "No pre-processing\n",
       "Resampling: Cross-Validated (10 fold, repeated 3 times) \n",
       "Summary of sample sizes: 202, 194, 186, 174, 187, 179, ... \n",
       "Resampling results across tuning parameters:\n",
       "\n",
       "  mtry  Accuracy   Kappa    \n",
       "   511  0.6928882  0.3851703\n",
       "  1541  0.6869892  0.3731999\n",
       "  2332  0.6942697  0.3879481\n",
       "  2538  0.6896400  0.3786888\n",
       "  3352  0.6991731  0.3980741\n",
       "  3607  0.6945435  0.3888149\n",
       "  4241  0.6806546  0.3607680\n",
       "  4379  0.6722789  0.3439666\n",
       "  4947  0.7097018  0.4190047\n",
       "  4999  0.6864416  0.3726112\n",
       "  5657  0.6945435  0.3885458\n",
       "  6055  0.6793852  0.3583565\n",
       "  6902  0.7026453  0.4047495\n",
       "  7353  0.7027573  0.4051158\n",
       "  7984  0.6992851  0.3979311\n",
       "\n",
       "Accuracy was used to select the optimal model using  the largest value.\n",
       "The final value used for the model was mtry = 4947."
      ]
     },
     "metadata": {},
     "output_type": "display_data"
    }
   ],
   "source": [
    "rf_random"
   ]
  },
  {
   "cell_type": "markdown",
   "metadata": {},
   "source": [
    "This website helps me make use of the multiple cores available to me:\n",
    "\n",
    "https://github.com/lgreski/datasciencectacontent/blob/master/markdown/pml-randomForestPerformance.md\n",
    "\n",
    "I should use multicore with caret code below to test different models\n",
    "\n",
    "I may also need to use ranger implementation of randomforests, but I think with these tools I should be able to do the cross-validation relatively smoothly to find a good model with basic parameter tuning."
   ]
  },
  {
   "cell_type": "code",
   "execution_count": 84,
   "metadata": {},
   "outputs": [
    {
     "data": {
      "text/plain": [
       "groups\n",
       "a b c d \n",
       "4 8 4 4 "
      ]
     },
     "metadata": {},
     "output_type": "display_data"
    },
    {
     "data": {
      "text/plain": [
       "$Fold1\n",
       "\n",
       "b c d \n",
       "8 4 4 \n",
       "\n",
       "$Fold2\n",
       "\n",
       "a c d \n",
       "4 4 4 \n",
       "\n",
       "$Fold3\n",
       "\n",
       "a b d \n",
       "4 8 4 \n",
       "\n",
       "$Fold4\n",
       "\n",
       "a b c \n",
       "4 8 4 \n"
      ]
     },
     "metadata": {},
     "output_type": "display_data"
    }
   ],
   "source": [
    "set.seed(131)\n",
    "groups <- sort(sample(letters[1:4], size = 20, replace = TRUE))\n",
    "table(groups)\n",
    "folds <- groupKFold(groups)\n",
    "lapply(folds, function(x, y) table(y[x]), y = groups)\n",
    "       "
   ]
  },
  {
   "cell_type": "markdown",
   "metadata": {},
   "source": [
    "Will need to consider adding preprocessing. Eventually feature selection, pathway calculation, etc. For now I am just trying the different algorithms"
   ]
  },
  {
   "cell_type": "code",
   "execution_count": 22,
   "metadata": {},
   "outputs": [
    {
     "name": "stdout",
     "output_type": "stream",
     "text": [
      "Time difference of 29.20957 secs\n"
     ]
    }
   ],
   "source": [
    "# Debugging the code\n",
    "# NOW HERE i AM GOING TO TEST USING MULTIPLE CORES\n",
    "\n",
    "#library(parallel)\n",
    "#library(doParallel)\n",
    "\n",
    "start_time <- Sys.time()\n",
    "\n",
    "cluster = makeCluster(detectCores()-3) # Leaving 3 for other jobs\n",
    "registerDoParallel(cluster)\n",
    "\n",
    "seed=100\n",
    "fit.control <- trainControl(method=\"cv\", index=folds, search=\"random\", allowParallel=TRUE)\n",
    "set.seed(seed)\n",
    "#mtry <- sqrt(ncol(expres.train))\n",
    "rf_random.1 <- train(time.period~., data=expres.train, method=\"glmnet\", tuneLength=5, trControl=fit.control)\n",
    "stopCluster(cluster)\n",
    "registerDoSEQ()\n",
    "\n",
    "end_time <- Sys.time()\n",
    "print(end_time - start_time)"
   ]
  },
  {
   "cell_type": "markdown",
   "metadata": {},
   "source": [
    "It took 33.11227 seconds to run with detectCores - 3 parallelization (the new caret worked!\n",
    "    -svmPoly 33.11227\n",
    "    -glmnet 24.65823\n",
    "    -glm taking forever! got warning \"glm.fit algorithm di not converge - time difference 2.22 minutes\n",
    "    -lda 3.396244 (variables are collinear)\n",
    "    -dnn (a mini deep neural net library) 26.6911 secs\n",
    "\n",
    "# Now without the parallel code\n",
    "glmnet: 17.56562 seconds\n",
    "try 5 tunelength\n",
    "    -without: 42.71488 secs\n",
    "    -with parallel: 29.20957\n",
    "\n",
    "Now, how much without it?\n",
    "$e^{i\\pi} + 1 = 0$"
   ]
  },
  {
   "cell_type": "code",
   "execution_count": 32,
   "metadata": {},
   "outputs": [
    {
     "data": {
      "text/html": [
       "<dl>\n",
       "\t<dt>$red</dt>\n",
       "\t\t<dd><ol class=list-inline>\n",
       "\t<li>1</li>\n",
       "\t<li>2</li>\n",
       "\t<li>3</li>\n",
       "</ol>\n",
       "</dd>\n",
       "\t<dt>$blue</dt>\n",
       "\t\t<dd><ol class=list-inline>\n",
       "\t<li>2</li>\n",
       "\t<li>3</li>\n",
       "\t<li>4</li>\n",
       "</ol>\n",
       "</dd>\n",
       "</dl>\n"
      ],
      "text/latex": [
       "\\begin{description}\n",
       "\\item[\\$red] \\begin{enumerate*}\n",
       "\\item 1\n",
       "\\item 2\n",
       "\\item 3\n",
       "\\end{enumerate*}\n",
       "\n",
       "\\item[\\$blue] \\begin{enumerate*}\n",
       "\\item 2\n",
       "\\item 3\n",
       "\\item 4\n",
       "\\end{enumerate*}\n",
       "\n",
       "\\end{description}\n"
      ],
      "text/markdown": [
       "$red\n",
       ":   1. 1\n",
       "2. 2\n",
       "3. 3\n",
       "\n",
       "\n",
       "\n",
       "$blue\n",
       ":   1. 2\n",
       "2. 3\n",
       "3. 4\n",
       "\n",
       "\n",
       "\n",
       "\n",
       "\n"
      ],
      "text/plain": [
       "$red\n",
       "[1] 1 2 3\n",
       "\n",
       "$blue\n",
       "[1] 2 3 4\n"
      ]
     },
     "metadata": {},
     "output_type": "display_data"
    }
   ],
   "source": [
    "alg=\"red\"\n",
    "bug =\"blue\"\n",
    "l=list()\n",
    "l[[alg]] = c(1,2,3)\n",
    "#list((cat(alg)) = c(1,2,3))\n",
    "l[[bug]] = c(2,3,4)\n",
    "l"
   ]
  },
  {
   "cell_type": "code",
   "execution_count": null,
   "metadata": {},
   "outputs": [],
   "source": [
    "seed=7\n",
    "\n",
    "# Now we are going to loop over different models\n",
    "# This code does work as long as I have the appropriate packages downloaded.\n",
    "start_time <- Sys.time()\n",
    "\n",
    "cluster = makeCluster(detectCores()-2) # Leaving 3 for other jobs\n",
    "registerDoParallel(cluster)\n",
    "\n",
    "methods = c(\"gbm\", \"svmRadial\", \"svmPoly\", \"ranger\", \"glmnet\", \"dnn\")\n",
    "#LVQ model has bug with a small dataset, so I removed that technique\n",
    "\n",
    "models = list()\n",
    "\n",
    "\n",
    "#folds\n",
    "control <- trainControl(method=\"cv\", index=folds, search=\"random\", allowParallel=TRUE)\n",
    "\n",
    "for (alg in methods) {\n",
    "    set.seed(seed)\n",
    "    print(\"I have gotten to model:\")\n",
    "    print(alg)\n",
    "    model = train(time.period~., data=expres.train, method=alg, tuneLength=15, trControl=control)\n",
    "    models[[alg]] = model\n",
    "}\n",
    "\n",
    "\n",
    "\n",
    "save.progress(file=\"Monkey-TB-caret-15 length random grid\")\n",
    "stopCluster(cluster)\n",
    "registerDoSEQ()\n",
    "\n",
    "end_time <- Sys.time()\n",
    "print(end_time - start_time)"
   ]
  },
  {
   "cell_type": "code",
   "execution_count": 35,
   "metadata": {},
   "outputs": [
    {
     "data": {
      "text/plain": [
       "$gbm\n",
       "Stochastic Gradient Boosting \n",
       "\n",
       " 210 samples\n",
       "9050 predictors\n",
       "   2 classes: 'late', 'middle' \n",
       "\n",
       "No pre-processing\n",
       "Resampling: Cross-Validated (10 fold) \n",
       "Summary of sample sizes: 202, 194, 186, 174, 187, 179, ... \n",
       "Resampling results across tuning parameters:\n",
       "\n",
       "  shrinkage  interaction.depth  n.minobsinnode  n.trees  Accuracy   Kappa     \n",
       "  0.1119008  10                 23               349     0.6908305  0.38167606\n",
       "  0.1122428   1                 22               579     0.7296515  0.45860690\n",
       "  0.1589682   6                  6              1989     0.5497323  0.08815429\n",
       "  0.1924014   7                  9               424     0.7218857  0.44343657\n",
       "  0.2281988   4                 25              1219     0.7049601  0.40809304\n",
       "  0.2297839   7                  8              1158     0.5856741  0.16234782\n",
       "  0.2626286  10                 13               482     0.6821978  0.36296185\n",
       "  0.2746854  10                 20              2296     0.5906441  0.17525007\n",
       "  0.2993476   3                 20              1700     0.6243209  0.24262588\n",
       "  0.4560610   5                  8              3864     0.5530032  0.09403205\n",
       "  0.4745608  10                 21              4860     0.5919135  0.17742480\n",
       "  0.4798860   1                 13               859     0.6738719  0.34699373\n",
       "  0.5032399  10                 18               830     0.6175778  0.22811342\n",
       "  0.5083676   7                 17              3960     0.5675517  0.12380350\n",
       "  0.5426264   4                 10              2267     0.5576328  0.10420564\n",
       "\n",
       "Accuracy was used to select the optimal model using the largest value.\n",
       "The final values used for the model were n.trees = 579, interaction.depth =\n",
       " 1, shrinkage = 0.1122428 and n.minobsinnode = 22.\n",
       "\n",
       "$svmRadial\n",
       "Support Vector Machines with Radial Basis Function Kernel \n",
       "\n",
       " 210 samples\n",
       "9050 predictors\n",
       "   2 classes: 'late', 'middle' \n",
       "\n",
       "No pre-processing\n",
       "Resampling: Cross-Validated (10 fold) \n",
       "Summary of sample sizes: 202, 194, 186, 174, 187, 179, ... \n",
       "Resampling results across tuning parameters:\n",
       "\n",
       "  sigma         C             Accuracy   Kappa    \n",
       "  4.366918e-05    0.05831856  0.5072940  0.0000000\n",
       "  4.598973e-05  251.82067148  0.7144039  0.4285423\n",
       "  4.827768e-05    1.88820583  0.7017617  0.4031478\n",
       "  4.846037e-05  541.34025133  0.7144039  0.4285423\n",
       "  5.162889e-05   61.54786865  0.7261793  0.4518556\n",
       "  5.878758e-05    0.21826784  0.6960867  0.3908584\n",
       "  6.077306e-05    1.74255174  0.7017617  0.4031478\n",
       "  6.806037e-05  188.32802924  0.7088182  0.4171334\n",
       "  6.987685e-05    0.05361279  0.5072940  0.0000000\n",
       "  7.345219e-05    0.09522132  0.5072940  0.0000000\n",
       "  7.436370e-05   19.60853972  0.7124024  0.4242039\n",
       "  7.486017e-05    7.58142985  0.7124024  0.4242039\n",
       "  7.979564e-05  728.67447062  0.7006043  0.4008330\n",
       "  8.329109e-05    0.45700244  0.6659941  0.3325484\n",
       "  8.398490e-05  380.95837379  0.6959747  0.3915738\n",
       "\n",
       "Accuracy was used to select the optimal model using the largest value.\n",
       "The final values used for the model were sigma = 5.162889e-05 and C = 61.54787.\n",
       "\n",
       "$svmPoly\n",
       "Support Vector Machines with Polynomial Kernel \n",
       "\n",
       " 210 samples\n",
       "9050 predictors\n",
       "   2 classes: 'late', 'middle' \n",
       "\n",
       "No pre-processing\n",
       "Resampling: Cross-Validated (10 fold) \n",
       "Summary of sample sizes: 202, 194, 186, 174, 187, 179, ... \n",
       "Resampling results across tuning parameters:\n",
       "\n",
       "  degree  scale         C            Accuracy   Kappa    \n",
       "  1       1.112099e-05    0.2154932  0.5072940  0.0000000\n",
       "  1       2.228384e-05  127.3042894  0.7048481  0.4091161\n",
       "  1       4.766785e-04    1.6126699  0.7048481  0.4091161\n",
       "  1       2.108392e-02    1.6576575  0.7048481  0.4091161\n",
       "  1       4.024072e-02    0.8663511  0.7048481  0.4091161\n",
       "  1       6.351060e-01  190.9376873  0.7048481  0.4091161\n",
       "  1       1.404202e+00    2.9314898  0.7048481  0.4091161\n",
       "  1       1.680436e+00    0.2142175  0.7048481  0.4091161\n",
       "  2       3.672715e-04    5.5448253  0.7187370  0.4375873\n",
       "  2       8.320388e-04  378.2682323  0.7016497  0.4041112\n",
       "  2       9.377921e-03    0.4849134  0.6242030  0.2519769\n",
       "  2       1.743154e+00    3.6139035  0.5890452  0.1826525\n",
       "  3       3.981282e-03   84.1865860  0.6015754  0.2090523\n",
       "  3       2.453229e-02  208.7114416  0.5984889  0.2032815\n",
       "  3       1.921127e+00  116.0645517  0.5984889  0.2032815\n",
       "\n",
       "Accuracy was used to select the optimal model using the largest value.\n",
       "The final values used for the model were degree = 2, scale = 0.0003672715 and\n",
       " C = 5.544825.\n",
       "\n",
       "$ranger\n",
       "Random Forest \n",
       "\n",
       " 210 samples\n",
       "9050 predictors\n",
       "   2 classes: 'late', 'middle' \n",
       "\n",
       "No pre-processing\n",
       "Resampling: Cross-Validated (10 fold) \n",
       "Summary of sample sizes: 202, 194, 186, 174, 187, 179, ... \n",
       "Resampling results across tuning parameters:\n",
       "\n",
       "  min.node.size  mtry  splitrule   Accuracy   Kappa    \n",
       "   2             6154  gini        0.6840148  0.3673155\n",
       "   2             8788  gini        0.6898018  0.3788896\n",
       "   2             8921  gini        0.6806546  0.3607680\n",
       "   3               79  gini        0.6743925  0.3484310\n",
       "   4              595  extratrees  0.6990113  0.3975432\n",
       "   4             8200  extratrees  0.6945435  0.3885458\n",
       "   5             2866  gini        0.7036907  0.4069676\n",
       "   5             5675  gini        0.6829694  0.3653976\n",
       "   7             2672  gini        0.6911833  0.3819676\n",
       "   8             5075  gini        0.6851722  0.3696304\n",
       "  10             3279  extratrees  0.7043005  0.4078546\n",
       "  10             8949  gini        0.6825836  0.3644336\n",
       "  16             4439  extratrees  0.6914570  0.3822945\n",
       "  16             5788  extratrees  0.7104734  0.4203555\n",
       "  20             9021  extratrees  0.7085444  0.4166899\n",
       "\n",
       "Accuracy was used to select the optimal model using the largest value.\n",
       "The final values used for the model were mtry = 5788, splitrule =\n",
       " extratrees and min.node.size = 16.\n",
       "\n",
       "$glmnet\n",
       "glmnet \n",
       "\n",
       " 210 samples\n",
       "9050 predictors\n",
       "   2 classes: 'late', 'middle' \n",
       "\n",
       "No pre-processing\n",
       "Resampling: Cross-Validated (10 fold) \n",
       "Summary of sample sizes: 202, 194, 186, 174, 187, 179, ... \n",
       "Resampling results across tuning parameters:\n",
       "\n",
       "  alpha       lambda       Accuracy   Kappa    \n",
       "  0.06974868  7.035154851  0.5072940  0.0000000\n",
       "  0.08470071  0.447486168  0.6978144  0.3945403\n",
       "  0.09630154  6.161652700  0.5072940  0.0000000\n",
       "  0.11569778  0.001056245  0.6757842  0.3516673\n",
       "  0.16585548  3.430163069  0.5072940  0.0000000\n",
       "  0.17174808  0.001764402  0.6859995  0.3717485\n",
       "  0.23147710  0.277681672  0.7099588  0.4192978\n",
       "  0.24374939  0.016928553  0.7147502  0.4293350\n",
       "  0.34006235  0.013964445  0.7043335  0.4085017\n",
       "  0.39774545  0.152687755  0.7169032  0.4331867\n",
       "  0.45344777  0.025539446  0.7063746  0.4126444\n",
       "  0.45910367  7.228061957  0.5072940  0.0000000\n",
       "  0.77281195  0.081118542  0.7150467  0.4291098\n",
       "  0.79201043  0.310536821  0.5072940  0.0000000\n",
       "  0.97206250  7.765872495  0.5072940  0.0000000\n",
       "\n",
       "Accuracy was used to select the optimal model using the largest value.\n",
       "The final values used for the model were alpha = 0.3977455 and lambda\n",
       " = 0.1526878.\n",
       "\n",
       "$dnn\n",
       "Stacked AutoEncoder Deep Neural Network \n",
       "\n",
       " 210 samples\n",
       "9050 predictors\n",
       "   2 classes: 'late', 'middle' \n",
       "\n",
       "No pre-processing\n",
       "Resampling: Cross-Validated (10 fold) \n",
       "Summary of sample sizes: 202, 194, 186, 174, 187, 179, ... \n",
       "Resampling results across tuning parameters:\n",
       "\n",
       "  layer1  layer2  layer3  hidden_dropout  visible_dropout  Accuracy   Kappa\n",
       "   3      14       8      0.13434242      0.39740570       0.4962902  0    \n",
       "   3      20       5      0.62893335      0.48556821       0.5037098  0    \n",
       "   3      20      10      0.27387463      0.43458593       0.5072940  0    \n",
       "   4       2       5      0.57140236      0.53468825       0.5037098  0    \n",
       "   5       3      17      0.27078190      0.20091059       0.4962902  0    \n",
       "   5      19      17      0.43943256      0.23594452       0.5072940  0    \n",
       "   6       8       9      0.67654748      0.38083793       0.5011212  0    \n",
       "   6      13       9      0.11395354      0.42083407       0.5011212  0    \n",
       "   8       7      11      0.50405565      0.32810987       0.5037098  0    \n",
       "   9      12       7      0.05779836      0.35307426       0.5072940  0    \n",
       "  10       8      19      0.19173085      0.09418613       0.5072940  0    \n",
       "  10      20      10      0.50609254      0.29716841       0.5072940  0    \n",
       "  16      11      16      0.13105980      0.58851963       0.5011212  0    \n",
       "  17      14      18      0.40114822      0.46136106       0.5072940  0    \n",
       "  20      20      17      0.54184104      0.33726388       0.5072940  0    \n",
       "\n",
       "Accuracy was used to select the optimal model using the largest value.\n",
       "The final values used for the model were layer1 = 3, layer2 = 20, layer3 =\n",
       " 10, hidden_dropout = 0.2738746 and visible_dropout = 0.4345859.\n"
      ]
     },
     "metadata": {},
     "output_type": "display_data"
    }
   ],
   "source": [
    "models"
   ]
  },
  {
   "cell_type": "code",
   "execution_count": 89,
   "metadata": {},
   "outputs": [
    {
     "data": {
      "text/plain": [
       "\n",
       "Call:\n",
       "summary.resamples(object = results)\n",
       "\n",
       "Models: gbm, svmRadial, svmPoly, ranger, glmnet, dnn \n",
       "Number of resamples: 9 \n",
       "\n",
       "Accuracy \n",
       "           Min.   1st Qu.    Median      Mean   3rd Qu.      Max. NA's\n",
       "gbm       0.625 0.6875000 0.7096774 0.7296515 0.8125000 0.8333333    0\n",
       "svmRadial 0.625 0.6875000 0.7187500 0.7261793 0.7391304 0.8750000    0\n",
       "svmPoly   0.625 0.6666667 0.6875000 0.7187370 0.7500000 0.8750000    0\n",
       "ranger    0.625 0.6666667 0.7083333 0.7104734 0.7419355 0.8125000    0\n",
       "glmnet    0.625 0.6875000 0.7083333 0.7169032 0.7500000 0.8125000    0\n",
       "dnn       0.500 0.5000000 0.5000000 0.5072940 0.5161290 0.5277778    0\n",
       "\n",
       "Kappa \n",
       "          Min.   1st Qu.    Median      Mean   3rd Qu.      Max. NA's\n",
       "gbm       0.25 0.3750000 0.4166667 0.4586069 0.6250000 0.6666667    0\n",
       "svmRadial 0.25 0.3750000 0.4375000 0.4518556 0.4772727 0.7500000    0\n",
       "svmPoly   0.25 0.3333333 0.3750000 0.4375873 0.5000000 0.7500000    0\n",
       "ranger    0.25 0.3333333 0.4166667 0.4203555 0.4833333 0.6250000    0\n",
       "glmnet    0.25 0.3750000 0.4150943 0.4331867 0.5000000 0.6250000    0\n",
       "dnn       0.00 0.0000000 0.0000000 0.0000000 0.0000000 0.0000000    0\n"
      ]
     },
     "metadata": {},
     "output_type": "display_data"
    },
    {
     "data": {},
     "metadata": {},
     "output_type": "display_data"
    },
    {
     "data": {},
     "metadata": {},
     "output_type": "display_data"
    },
    {
     "data": {
      "image/png": "[encoded data removed]",
      "text/plain": [
       "plot without title"
      ]
     },
     "metadata": {},
     "output_type": "display_data"
    },
    {
     "data": {},
     "metadata": {},
     "output_type": "display_data"
    },
    {
     "data": {
      "text/html": [
       "<strong>png:</strong> 2"
      ],
      "text/latex": [
       "\\textbf{png:} 2"
      ],
      "text/markdown": [
       "**png:** 2"
      ],
      "text/plain": [
       "png \n",
       "  2 "
      ]
     },
     "metadata": {},
     "output_type": "display_data"
    },
    {
     "data": {
      "image/png": "[encoded data removed]",
      "text/plain": [
       "plot without title"
      ]
     },
     "metadata": {},
     "output_type": "display_data"
    }
   ],
   "source": [
    "#load()\n",
    "results = resamples(models)\n",
    "summary(results)\n",
    "bwplot(results)\n",
    "dotplot(results)\n",
    "\n",
    "pdf(\"Cross Validation-Parameter Search_5Feb2018.pdf\")\n",
    "bwplot(results)\n",
    "dev.off()"
   ]
  },
  {
   "cell_type": "markdown",
   "metadata": {},
   "source": [
    "### This explains how to do the predictions:\n",
    "https://www.rdocumentation.org/packages/caret/versions/5.05.004/topics/predict.train"
   ]
  },
  {
   "cell_type": "code",
   "execution_count": null,
   "metadata": {},
   "outputs": [],
   "source": [
    "extractPrediction(models,\n",
    "                  testX = NULL, testY = NULL,\n",
    "                  unkX = NULL, \n",
    "                  unkOnly = !is.null(unkX) & is.null(testX),\n",
    "                  verbose = FALSE)"
   ]
  },
  {
   "cell_type": "code",
   "execution_count": 4,
   "metadata": {},
   "outputs": [],
   "source": [
    "load(\"data/Monkey-TB-caret-15 length random grid-2018-02-01-.RData\")"
   ]
  },
  {
   "cell_type": "code",
   "execution_count": 6,
   "metadata": {},
   "outputs": [
    {
     "data": {
      "text/plain": [
       "Stochastic Gradient Boosting \n",
       "\n",
       " 210 samples\n",
       "9050 predictors\n",
       "   2 classes: 'late', 'middle' \n",
       "\n",
       "No pre-processing\n",
       "Resampling: Cross-Validated (10 fold) \n",
       "Summary of sample sizes: 202, 194, 186, 174, 187, 179, ... \n",
       "Resampling results across tuning parameters:\n",
       "\n",
       "  shrinkage  interaction.depth  n.minobsinnode  n.trees  Accuracy   Kappa     \n",
       "  0.1119008  10                 23               349     0.6908305  0.38167606\n",
       "  0.1122428   1                 22               579     0.7296515  0.45860690\n",
       "  0.1589682   6                  6              1989     0.5497323  0.08815429\n",
       "  0.1924014   7                  9               424     0.7218857  0.44343657\n",
       "  0.2281988   4                 25              1219     0.7049601  0.40809304\n",
       "  0.2297839   7                  8              1158     0.5856741  0.16234782\n",
       "  0.2626286  10                 13               482     0.6821978  0.36296185\n",
       "  0.2746854  10                 20              2296     0.5906441  0.17525007\n",
       "  0.2993476   3                 20              1700     0.6243209  0.24262588\n",
       "  0.4560610   5                  8              3864     0.5530032  0.09403205\n",
       "  0.4745608  10                 21              4860     0.5919135  0.17742480\n",
       "  0.4798860   1                 13               859     0.6738719  0.34699373\n",
       "  0.5032399  10                 18               830     0.6175778  0.22811342\n",
       "  0.5083676   7                 17              3960     0.5675517  0.12380350\n",
       "  0.5426264   4                 10              2267     0.5576328  0.10420564\n",
       "\n",
       "Accuracy was used to select the optimal model using the largest value.\n",
       "The final values used for the model were n.trees = 579, interaction.depth =\n",
       " 1, shrinkage = 0.1122428 and n.minobsinnode = 22."
      ]
     },
     "metadata": {},
     "output_type": "display_data"
    }
   ],
   "source": [
    "models$gbm"
   ]
  },
  {
   "cell_type": "code",
   "execution_count": null,
   "metadata": {},
   "outputs": [],
   "source": [
    "library(caret)\n",
    "model.gbm = models$gbm\n",
    "#predBest = extractPrediction(model.gbm, testX=expres.test, testY = as.character(pheno.test$time.period))\n",
    "pred.test = predict(model.gbm, newdata = expres.test)"
   ]
  },
  {
   "cell_type": "code",
   "execution_count": 15,
   "metadata": {},
   "outputs": [
    {
     "data": {
      "text/plain": [
       "Confusion Matrix and Statistics\n",
       "\n",
       "          Reference\n",
       "Prediction late middle\n",
       "    late     25      8\n",
       "    middle   15     36\n",
       "                                         \n",
       "               Accuracy : 0.7262         \n",
       "                 95% CI : (0.618, 0.8179)\n",
       "    No Information Rate : 0.5238         \n",
       "    P-Value [Acc > NIR] : 0.0001197      \n",
       "                                         \n",
       "                  Kappa : 0.4467         \n",
       " Mcnemar's Test P-Value : 0.2109029      \n",
       "                                         \n",
       "            Sensitivity : 0.8182         \n",
       "            Specificity : 0.6250         \n",
       "         Pos Pred Value : 0.7059         \n",
       "         Neg Pred Value : 0.7576         \n",
       "             Prevalence : 0.5238         \n",
       "         Detection Rate : 0.4286         \n",
       "   Detection Prevalence : 0.6071         \n",
       "      Balanced Accuracy : 0.7216         \n",
       "                                         \n",
       "       'Positive' Class : middle         \n",
       "                                         "
      ]
     },
     "metadata": {},
     "output_type": "display_data"
    }
   ],
   "source": [
    "confusionMatrix(pred.test, pheno.test$time.period, positive = \"middle\")"
   ]
  },
  {
   "cell_type": "code",
   "execution_count": 13,
   "metadata": {},
   "outputs": [],
   "source": [
    "?confusionMatrix\n"
   ]
  },
  {
   "cell_type": "markdown",
   "metadata": {},
   "source": [
    "## Now I am going to add ratios of features (subtraction on the log scale)\n",
    "## I will also center and scale the data in caret\n"
   ]
  },
  {
   "cell_type": "code",
   "execution_count": 1,
   "metadata": {},
   "outputs": [
    {
     "data": {
      "text/html": [
       "6"
      ],
      "text/latex": [
       "6"
      ],
      "text/markdown": [
       "6"
      ],
      "text/plain": [
       "[1] 6"
      ]
     },
     "metadata": {},
     "output_type": "display_data"
    }
   ],
   "source": [
    "3+3"
   ]
  },
  {
   "cell_type": "code",
   "execution_count": null,
   "metadata": {},
   "outputs": [],
   "source": [
    "# This loop does work\n",
    "n = 100\n",
    "count = 0\n",
    "for (i in rev(2:n)) {\n",
    "    for (j in rev(1:(i-1))) {\n",
    "        print(paste(i, j, sep=\",\"))\n",
    "        count = count + 1\n",
    "    }\n",
    "}\n",
    "print(paste(\"Final count is:\", count))\n",
    "print(\"Expected count number\")\n",
    "print((n*(n-1)/2))"
   ]
  },
  {
   "cell_type": "code",
   "execution_count": 85,
   "metadata": {},
   "outputs": [],
   "source": [
    "# Okay, I think this code is working now\n",
    "create.ratios.log = function(x) {\n",
    "    #print(\"Here is what create ratios sees\")\n",
    "    #print(x)\n",
    "   # return(1)\n",
    "    n = length(x)\n",
    "    y = rep(0, n*(n-1)/2)\n",
    "    #print(y)\n",
    "    k = 1\n",
    "    for (i in rev(2:n)) {\n",
    "        for (j in rev(1:(i-1))) {\n",
    "            y[k] = x[i] - x[j]\n",
    "            k = k + 1\n",
    "            #print(paste(i, j, sep=\",\"))\n",
    "            #count = count + 1\n",
    "            }\n",
    "        }\n",
    "    #print(\"This is y\")\n",
    "    #print(y)\n",
    "    return(y)\n",
    "}\n",
    "\n",
    "get.ratios = function(data) {\n",
    "    data.ratio = apply(data, 1, create.ratios.log)\n",
    "    data.ratio = cbind(data, t(data.ratio))\n",
    "    return(data.ratio)\n",
    "}\n",
    "\n",
    "# Test case\n",
    "w = data.frame(x=1:5, y =c(20, 1, 4, 5, 9), z=c(99, 2, 16, 21, 100), m=11:15)\n",
    "#print(w)\n",
    "z = get.ratios(w)\n",
    "#print(z)"
   ]
  },
  {
   "cell_type": "code",
   "execution_count": 67,
   "metadata": {},
   "outputs": [
    {
     "name": "stdout",
     "output_type": "stream",
     "text": [
      " [1] 0 0 0 0 0 0 0 0 0 0 0 0 0 0 0\n"
     ]
    }
   ],
   "source": [
    "x = 1:6\n",
    "n = length(x)\n",
    "y = rep(0, n*(n-1)/2)\n",
    "print(y)"
   ]
  },
  {
   "cell_type": "code",
   "execution_count": 62,
   "metadata": {},
   "outputs": [
    {
     "data": {
      "text/html": [
       "<ol class=list-inline>\n",
       "\t<li>'ILMN_2055271'</li>\n",
       "\t<li>'ILMN_1814092'</li>\n",
       "\t<li>'ILMN_2061446'</li>\n",
       "\t<li>'ILMN_3237396'</li>\n",
       "\t<li>'ILMN_1688755'</li>\n",
       "\t<li>'ILMN_1880387'</li>\n",
       "</ol>\n"
      ],
      "text/latex": [
       "\\begin{enumerate*}\n",
       "\\item 'ILMN\\_2055271'\n",
       "\\item 'ILMN\\_1814092'\n",
       "\\item 'ILMN\\_2061446'\n",
       "\\item 'ILMN\\_3237396'\n",
       "\\item 'ILMN\\_1688755'\n",
       "\\item 'ILMN\\_1880387'\n",
       "\\end{enumerate*}\n"
      ],
      "text/markdown": [
       "1. 'ILMN_2055271'\n",
       "2. 'ILMN_1814092'\n",
       "3. 'ILMN_2061446'\n",
       "4. 'ILMN_3237396'\n",
       "5. 'ILMN_1688755'\n",
       "6. 'ILMN_1880387'\n",
       "\n",
       "\n"
      ],
      "text/plain": [
       "[1] \"ILMN_2055271\" \"ILMN_1814092\" \"ILMN_2061446\" \"ILMN_3237396\" \"ILMN_1688755\"\n",
       "[6] \"ILMN_1880387\""
      ]
     },
     "metadata": {},
     "output_type": "display_data"
    }
   ],
   "source": [
    "head(colnames(expres.train))\n"
   ]
  },
  {
   "cell_type": "code",
   "execution_count": null,
   "metadata": {},
   "outputs": [],
   "source": [
    "expres.train.ratio = get.ratios(subset(expres.train, select=-c(time.period)))\n",
    "#expres.test.ratio = get.ratios(subset(expres.test,select= -c(time.period)))"
   ]
  },
  {
   "cell_type": "markdown",
   "metadata": {},
   "source": [
    "The above code to get ratios did not finish running. I didn't have enough memory. I'll probably need to do it in python and load it in or something. Or it may not be computationally tractable with the resources I have."
   ]
  },
  {
   "cell_type": "markdown",
   "metadata": {},
   "source": [
    "### Since it is n^2 features, I will try just glmnet first"
   ]
  },
  {
   "cell_type": "code",
   "execution_count": 31,
   "metadata": {},
   "outputs": [
    {
     "data": {
      "text/html": [
       "11.4"
      ],
      "text/latex": [
       "11.4"
      ],
      "text/markdown": [
       "11.4"
      ],
      "text/plain": [
       "[1] 11.4"
      ]
     },
     "metadata": {},
     "output_type": "display_data"
    }
   ],
   "source": [
    "library(mlbench)\n",
    "library(caret)\n",
    "# load the dataset\n",
    "data(PimaIndiansDiabetes)\n",
    "# prepare training scheme\n",
    "control <- trainControl(method=\"repeatedcv\", number=10, repeats=3)\n",
    "# train the LVQ model\n",
    "set.seed(7)\n",
    "modelLvq <- train(diabetes~., data=PimaIndiansDiabetes, method=\"lvq\", trControl=control)\n",
    "# train the GBM model\n",
    "set.seed(7)\n",
    "modelGbm <- train(diabetes~., data=PimaIndiansDiabetes, method=\"gbm\", trControl=control, verbose=FALSE)\n",
    "# train the SVM model\n",
    "set.seed(7)\n",
    "modelSvm <- train(diabetes~., data=PimaIndiansDiabetes, method=\"svmRadial\", trControl=control)\n",
    "# collect resamples\n",
    "results <- resamples(list(LVQ=modelLvq, GBM=modelGbm, SVM=modelSvm))\n",
    "# summarize the distributions\n",
    "summary(results)\n",
    "# boxplots of results\n",
    "bwplot(results)\n",
    "# dot plots of results\n",
    "dotplot(results)\n"
   ]
  },
  {
   "cell_type": "code",
   "execution_count": 32,
   "metadata": {},
   "outputs": [
    {
     "data": {
      "text/html": [
       "0.578947368421053"
      ],
      "text/latex": [
       "0.578947368421053"
      ],
      "text/markdown": [
       "0.578947368421053"
      ],
      "text/plain": [
       "[1] 0.5789474"
      ]
     },
     "metadata": {},
     "output_type": "display_data"
    }
   ],
   "source": [
    "library(doParallel) rCluster <- makePSOCKcluster(6) registerDoParallel(rCluster)\n",
    "# parllel processing should be utilized effectively."
   ]
  },
  {
   "cell_type": "code",
   "execution_count": 51,
   "metadata": {},
   "outputs": [],
   "source": [
    "?trainControl"
   ]
  },
  {
   "cell_type": "code",
   "execution_count": 61,
   "metadata": {},
   "outputs": [],
   "source": [
    "?groupKFold"
   ]
  },
  {
   "cell_type": "code",
   "execution_count": null,
   "metadata": {},
   "outputs": [],
   "source": [
    "# testing out list appending"
   ]
  }
 ],
 "metadata": {
  "kernelspec": {
   "display_name": "R",
   "language": "R",
   "name": "ir"
  },
  "language_info": {
   "codemirror_mode": "r",
   "file_extension": ".r",
   "mimetype": "text/x-r-source",
   "name": "R",
   "pygments_lexer": "r",
   "version": "3.4.2"
  }
 },
 "nbformat": 4,
 "nbformat_minor": 2
}
